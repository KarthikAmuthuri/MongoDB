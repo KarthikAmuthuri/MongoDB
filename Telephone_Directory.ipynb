{
  "nbformat": 4,
  "nbformat_minor": 0,
  "metadata": {
    "colab": {
      "provenance": [],
      "authorship_tag": "ABX9TyMKKcTzc9ycwSe44GayV5Rf",
      "include_colab_link": true
    },
    "kernelspec": {
      "name": "python3",
      "display_name": "Python 3"
    },
    "language_info": {
      "name": "python"
    }
  },
  "cells": [
    {
      "cell_type": "markdown",
      "metadata": {
        "id": "view-in-github",
        "colab_type": "text"
      },
      "source": [
        "<a href=\"https://colab.research.google.com/github/KarthikAmuthuri/MongoDB/blob/main/Telephone_Directory.ipynb\" target=\"_parent\"><img src=\"https://colab.research.google.com/assets/colab-badge.svg\" alt=\"Open In Colab\"/></a>"
      ]
    },
    {
      "cell_type": "markdown",
      "source": [
        "#Telephone Directory CRUD Operation"
      ],
      "metadata": {
        "id": "rk0N72b7dpKU"
      }
    },
    {
      "cell_type": "code",
      "source": [
        "# install and start server\n",
        "!apt install mongodb >log\n",
        "!service mongodb start"
      ],
      "metadata": {
        "colab": {
          "base_uri": "https://localhost:8080/"
        },
        "id": "3hLRD3Qndp_U",
        "outputId": "70cef030-608d-4c64-a116-28f1cc421514"
      },
      "execution_count": 1,
      "outputs": [
        {
          "output_type": "stream",
          "name": "stdout",
          "text": [
            "\n",
            "WARNING: apt does not have a stable CLI interface. Use with caution in scripts.\n",
            "\n",
            " * Starting database mongodb\n",
            "   ...done.\n"
          ]
        }
      ]
    },
    {
      "cell_type": "code",
      "source": [
        "from pymongo import MongoClient\n",
        "client = MongoClient()\n",
        "client.list_database_names()"
      ],
      "metadata": {
        "id": "-PQj9GkCd5JF",
        "colab": {
          "base_uri": "https://localhost:8080/"
        },
        "outputId": "8fb80a54-cf89-4dd0-a04b-19c7b0d07005"
      },
      "execution_count": 2,
      "outputs": [
        {
          "output_type": "execute_result",
          "data": {
            "text/plain": [
              "['admin', 'local']"
            ]
          },
          "metadata": {},
          "execution_count": 2
        }
      ]
    },
    {
      "cell_type": "markdown",
      "source": [
        "#create operations"
      ],
      "metadata": {
        "id": "TJOmzr8wwdpy"
      }
    },
    {
      "cell_type": "markdown",
      "source": [
        "creating the databases and its collections"
      ],
      "metadata": {
        "id": "MbO6vfCOxF6a"
      }
    },
    {
      "cell_type": "code",
      "source": [
        "#creating the database named \"telephone_directory\" \n",
        "db = client.telephone_directory"
      ],
      "metadata": {
        "id": "FO3dJua-eD9b"
      },
      "execution_count": 3,
      "outputs": []
    },
    {
      "cell_type": "code",
      "source": [
        "#creating collection named \"Persons\"\n",
        "col = db.Persons"
      ],
      "metadata": {
        "id": "R53zvnSgePNH"
      },
      "execution_count": 4,
      "outputs": []
    },
    {
      "cell_type": "code",
      "source": [
        "db.list_collection_names()"
      ],
      "metadata": {
        "colab": {
          "base_uri": "https://localhost:8080/"
        },
        "id": "vxMaCVG-Z1Px",
        "outputId": "7118a06c-cff2-47c3-fc77-a77c8a16410f"
      },
      "execution_count": 5,
      "outputs": [
        {
          "output_type": "execute_result",
          "data": {
            "text/plain": [
              "[]"
            ]
          },
          "metadata": {},
          "execution_count": 5
        }
      ]
    },
    {
      "cell_type": "markdown",
      "source": [
        "Inserting single document"
      ],
      "metadata": {
        "id": "9P9b7GwnY_NP"
      }
    },
    {
      "cell_type": "code",
      "source": [
        "#Inserting a single record\n",
        "document = {'Name': 'karthik',\n",
        "    'Phone': 908209482,\n",
        "    'Place':'madanapalle'}\n",
        "\n",
        "db.col.insert_one(document)"
      ],
      "metadata": {
        "colab": {
          "base_uri": "https://localhost:8080/"
        },
        "id": "XXyAWTBKedCR",
        "outputId": "d4222e25-0481-47dd-e5f0-f606fa42dd05"
      },
      "execution_count": 6,
      "outputs": [
        {
          "output_type": "execute_result",
          "data": {
            "text/plain": [
              "<pymongo.results.InsertOneResult at 0x7f50b84c22e0>"
            ]
          },
          "metadata": {},
          "execution_count": 6
        }
      ]
    },
    {
      "cell_type": "code",
      "source": [
        "#getting names of available databases\n",
        "client.list_database_names()"
      ],
      "metadata": {
        "id": "RHwJukQye5PR",
        "colab": {
          "base_uri": "https://localhost:8080/"
        },
        "outputId": "d82921da-c9b9-4e5d-bc3b-efe2f8881950"
      },
      "execution_count": 7,
      "outputs": [
        {
          "output_type": "execute_result",
          "data": {
            "text/plain": [
              "['admin', 'local', 'telephone_directory']"
            ]
          },
          "metadata": {},
          "execution_count": 7
        }
      ]
    },
    {
      "cell_type": "markdown",
      "source": [
        "From the list , we can confirm that our database named **telephone_directory** is **created**"
      ],
      "metadata": {
        "id": "yqDjaT7gzSRN"
      }
    },
    {
      "cell_type": "code",
      "source": [
        "#getting available collections names in database\n",
        "db.list_collection_names()"
      ],
      "metadata": {
        "id": "Xkiz1uZffY3X",
        "colab": {
          "base_uri": "https://localhost:8080/"
        },
        "outputId": "4af0873c-5c22-4566-f01e-1b4731f64661"
      },
      "execution_count": 8,
      "outputs": [
        {
          "output_type": "execute_result",
          "data": {
            "text/plain": [
              "['col']"
            ]
          },
          "metadata": {},
          "execution_count": 8
        }
      ]
    },
    {
      "cell_type": "markdown",
      "source": [
        "Inserting multiple documents"
      ],
      "metadata": {
        "id": "b50NlmRhY5GT"
      }
    },
    {
      "cell_type": "code",
      "source": [
        "#creating a document with multiple records \n",
        "document1 = [{'Name': 'Madhu',\n",
        "    'Phone': 2984457452,\n",
        "    'Place':'jaipal'},\n",
        "    {'Name':'Sudha',\n",
        "     'Phone':5484157185,\n",
        "     'Place':'coimbatore'},\n",
        "     {'Name':'Rahim',\n",
        "      'Phone': 4987454572,\n",
        "      'Place':'chintaparthi'},\n",
        "      {'Name': 'Jagga',\n",
        "       'Phone': 785484684,\n",
        "       'Place': 'madanapalle'      \n",
        "    }]\n",
        "    \n",
        "db.col.insert_many(document1)"
      ],
      "metadata": {
        "id": "4JXWwznNfrf0",
        "colab": {
          "base_uri": "https://localhost:8080/"
        },
        "outputId": "1e1f682f-833d-4965-8fd5-84e6e5a06d30"
      },
      "execution_count": 9,
      "outputs": [
        {
          "output_type": "execute_result",
          "data": {
            "text/plain": [
              "<pymongo.results.InsertManyResult at 0x7f50b7669820>"
            ]
          },
          "metadata": {},
          "execution_count": 9
        }
      ]
    },
    {
      "cell_type": "markdown",
      "source": [
        "#Reading/Retrieving operations"
      ],
      "metadata": {
        "id": "VfQ5vD19tmIm"
      }
    },
    {
      "cell_type": "markdown",
      "source": [
        "Retrieving the data from the collection\n",
        "\n",
        "Retrieving data can be done in the following two ways.\n",
        "1. Retrieving a single document\n",
        "2. Retrieving multiple documents"
      ],
      "metadata": {
        "id": "D5NHs3kSh_Vq"
      }
    },
    {
      "cell_type": "markdown",
      "source": [
        "Retrieving a single document from the collection"
      ],
      "metadata": {
        "id": "hsjlKq7riCF-"
      }
    },
    {
      "cell_type": "code",
      "source": [
        "db.col.find_one()"
      ],
      "metadata": {
        "id": "GJbLZoF7ffxl",
        "colab": {
          "base_uri": "https://localhost:8080/"
        },
        "outputId": "2714bedd-e22f-4e6e-a4e8-10f33291f947"
      },
      "execution_count": 10,
      "outputs": [
        {
          "output_type": "execute_result",
          "data": {
            "text/plain": [
              "{'_id': ObjectId('63b7fb80d3bbf3b852c32678'),\n",
              " 'Name': 'karthik',\n",
              " 'Phone': 908209482,\n",
              " 'Place': 'madanapalle'}"
            ]
          },
          "metadata": {},
          "execution_count": 10
        }
      ]
    },
    {
      "cell_type": "code",
      "source": [
        "db.col.find_one({'Name': 'Madhu'})"
      ],
      "metadata": {
        "id": "7erZnhoeixv1",
        "colab": {
          "base_uri": "https://localhost:8080/"
        },
        "outputId": "6d367d87-3b9b-4035-cb9d-ef968270cb46"
      },
      "execution_count": 11,
      "outputs": [
        {
          "output_type": "execute_result",
          "data": {
            "text/plain": [
              "{'_id': ObjectId('63b7fb80d3bbf3b852c32679'),\n",
              " 'Name': 'Madhu',\n",
              " 'Phone': 2984457452,\n",
              " 'Place': 'jaipal'}"
            ]
          },
          "metadata": {},
          "execution_count": 11
        }
      ]
    },
    {
      "cell_type": "markdown",
      "source": [
        "Retrieving multiple documents from the collection"
      ],
      "metadata": {
        "id": "jDuJMuEWikd7"
      }
    },
    {
      "cell_type": "code",
      "source": [
        "x = db.col.find({'Place':'madanapalle'})\n",
        "for i in x:\n",
        "  print(i)"
      ],
      "metadata": {
        "id": "gmVxUcvJjfjN",
        "colab": {
          "base_uri": "https://localhost:8080/"
        },
        "outputId": "91b5e34c-043f-449c-fb2f-9f5a59b50fa8"
      },
      "execution_count": 12,
      "outputs": [
        {
          "output_type": "stream",
          "name": "stdout",
          "text": [
            "{'_id': ObjectId('63b7fb80d3bbf3b852c32678'), 'Name': 'karthik', 'Phone': 908209482, 'Place': 'madanapalle'}\n",
            "{'_id': ObjectId('63b7fb80d3bbf3b852c3267c'), 'Name': 'Jagga', 'Phone': 785484684, 'Place': 'madanapalle'}\n"
          ]
        }
      ]
    },
    {
      "cell_type": "code",
      "source": [
        "x = list(db.col.find())\n",
        "x"
      ],
      "metadata": {
        "id": "Ofoypwzng5eS",
        "colab": {
          "base_uri": "https://localhost:8080/"
        },
        "outputId": "c24c80e7-42b7-4528-ef43-e14baa1eac9f"
      },
      "execution_count": 13,
      "outputs": [
        {
          "output_type": "execute_result",
          "data": {
            "text/plain": [
              "[{'_id': ObjectId('63b7fb80d3bbf3b852c32678'),\n",
              "  'Name': 'karthik',\n",
              "  'Phone': 908209482,\n",
              "  'Place': 'madanapalle'},\n",
              " {'_id': ObjectId('63b7fb80d3bbf3b852c32679'),\n",
              "  'Name': 'Madhu',\n",
              "  'Phone': 2984457452,\n",
              "  'Place': 'jaipal'},\n",
              " {'_id': ObjectId('63b7fb80d3bbf3b852c3267a'),\n",
              "  'Name': 'Sudha',\n",
              "  'Phone': 5484157185,\n",
              "  'Place': 'coimbatore'},\n",
              " {'_id': ObjectId('63b7fb80d3bbf3b852c3267b'),\n",
              "  'Name': 'Rahim',\n",
              "  'Phone': 4987454572,\n",
              "  'Place': 'chintaparthi'},\n",
              " {'_id': ObjectId('63b7fb80d3bbf3b852c3267c'),\n",
              "  'Name': 'Jagga',\n",
              "  'Phone': 785484684,\n",
              "  'Place': 'madanapalle'}]"
            ]
          },
          "metadata": {},
          "execution_count": 13
        }
      ]
    },
    {
      "cell_type": "code",
      "source": [
        "res = list(db.col.find({'Place':'madanapalle'}).limit(1))\n",
        "for i in res:\n",
        "  print(i)"
      ],
      "metadata": {
        "id": "loTVsAA7j_dy",
        "colab": {
          "base_uri": "https://localhost:8080/"
        },
        "outputId": "8036b11f-a0ae-4eec-f8ed-7d7cc2a467bd"
      },
      "execution_count": 14,
      "outputs": [
        {
          "output_type": "stream",
          "name": "stdout",
          "text": [
            "{'_id': ObjectId('63b7fb80d3bbf3b852c32678'), 'Name': 'karthik', 'Phone': 908209482, 'Place': 'madanapalle'}\n"
          ]
        }
      ]
    },
    {
      "cell_type": "markdown",
      "source": [
        "#update  operations"
      ],
      "metadata": {
        "id": "L2bbCcs7wsBe"
      }
    },
    {
      "cell_type": "markdown",
      "source": [
        "There are two ways to update an document:\n",
        "\n",
        "\n",
        "1.   Modify the document, use the update_one() method\n",
        "2.   Modify multiple documents, use the update_many() method\n",
        "\n"
      ],
      "metadata": {
        "id": "m2HYJtKZxOk_"
      }
    },
    {
      "cell_type": "markdown",
      "source": [
        "Modify the document, use the update_one() method"
      ],
      "metadata": {
        "id": "j6Bbn7Rlj5Yv"
      }
    },
    {
      "cell_type": "code",
      "source": [
        "#To update a single document we use update_one() method.\n",
        "present_data = db.col.find_one({'Name':'Jagga'})\n",
        "print('present data :\\n', present_data)\n"
      ],
      "metadata": {
        "id": "SOlHm0OJhoYV",
        "colab": {
          "base_uri": "https://localhost:8080/"
        },
        "outputId": "84cd6f4d-9801-47a1-b3d3-06f5ca8ac10f"
      },
      "execution_count": 15,
      "outputs": [
        {
          "output_type": "stream",
          "name": "stdout",
          "text": [
            "present data :\n",
            " {'_id': ObjectId('63b7fb80d3bbf3b852c3267c'), 'Name': 'Jagga', 'Phone': 785484684, 'Place': 'madanapalle'}\n"
          ]
        }
      ]
    },
    {
      "cell_type": "code",
      "source": [
        "#The update_one() method requires two arguments, query and update.\n",
        "update_query = {'$set': {'Name':'Jagadeesh'}}\n",
        "updated_data = db.col.update_one(present_data,update_query)\n",
        "print('updated data :')\n",
        "updated_data"
      ],
      "metadata": {
        "id": "xTQHD3SZl9hH",
        "colab": {
          "base_uri": "https://localhost:8080/"
        },
        "outputId": "6b13d08c-7f60-4784-e702-dd46f7c4bb98"
      },
      "execution_count": 16,
      "outputs": [
        {
          "output_type": "stream",
          "name": "stdout",
          "text": [
            "updated data :\n"
          ]
        },
        {
          "output_type": "execute_result",
          "data": {
            "text/plain": [
              "<pymongo.results.UpdateResult at 0x7f50b6e2ba30>"
            ]
          },
          "metadata": {},
          "execution_count": 16
        }
      ]
    },
    {
      "cell_type": "code",
      "source": [
        "db.col.find_one({'Phone': 785484684})"
      ],
      "metadata": {
        "id": "-Ao7mK-JniCf",
        "colab": {
          "base_uri": "https://localhost:8080/"
        },
        "outputId": "46214075-c702-4af9-a760-4eba28b2b557"
      },
      "execution_count": 17,
      "outputs": [
        {
          "output_type": "execute_result",
          "data": {
            "text/plain": [
              "{'_id': ObjectId('63b7fb80d3bbf3b852c3267c'),\n",
              " 'Name': 'Jagadeesh',\n",
              " 'Phone': 785484684,\n",
              " 'Place': 'madanapalle'}"
            ]
          },
          "metadata": {},
          "execution_count": 17
        }
      ]
    },
    {
      "cell_type": "code",
      "source": [
        "db.col.update_one({'Name':'karthik'},{'$set':{'Phone': 4986584554}})"
      ],
      "metadata": {
        "id": "3W2qaHZnn-2x",
        "colab": {
          "base_uri": "https://localhost:8080/"
        },
        "outputId": "dd5d439f-a28d-4918-91d6-602cd56daed3"
      },
      "execution_count": 18,
      "outputs": [
        {
          "output_type": "execute_result",
          "data": {
            "text/plain": [
              "<pymongo.results.UpdateResult at 0x7f50b6e11970>"
            ]
          },
          "metadata": {},
          "execution_count": 18
        }
      ]
    },
    {
      "cell_type": "code",
      "source": [
        "db.col.find_one({'Name':\"karthik\"})"
      ],
      "metadata": {
        "id": "e13W3MHzpkze",
        "colab": {
          "base_uri": "https://localhost:8080/"
        },
        "outputId": "87c30be0-5637-4547-a347-699d80579480"
      },
      "execution_count": 19,
      "outputs": [
        {
          "output_type": "execute_result",
          "data": {
            "text/plain": [
              "{'_id': ObjectId('63b7fb80d3bbf3b852c32678'),\n",
              " 'Name': 'karthik',\n",
              " 'Phone': 4986584554,\n",
              " 'Place': 'madanapalle'}"
            ]
          },
          "metadata": {},
          "execution_count": 19
        }
      ]
    },
    {
      "cell_type": "markdown",
      "source": [
        "Modify multiple documents, use the update_many() method"
      ],
      "metadata": {
        "id": "vdzFohJGqOPC"
      }
    },
    {
      "cell_type": "code",
      "source": [
        "res1 = db.col.find({'Place': 'madanapalle'})\n",
        "for i in res1:\n",
        "  print(i)"
      ],
      "metadata": {
        "id": "hxDP5LY_qD-L",
        "colab": {
          "base_uri": "https://localhost:8080/"
        },
        "outputId": "7247f148-5c9b-4bf4-a8b3-d105374c8282"
      },
      "execution_count": 20,
      "outputs": [
        {
          "output_type": "stream",
          "name": "stdout",
          "text": [
            "{'_id': ObjectId('63b7fb80d3bbf3b852c32678'), 'Name': 'karthik', 'Phone': 4986584554, 'Place': 'madanapalle'}\n",
            "{'_id': ObjectId('63b7fb80d3bbf3b852c3267c'), 'Name': 'Jagadeesh', 'Phone': 785484684, 'Place': 'madanapalle'}\n"
          ]
        }
      ]
    },
    {
      "cell_type": "code",
      "source": [
        "present_data={\"Place\":\"madanapalle\"}\n",
        "new_data={\"$set\":{\"Place\":\"banglore\"}}\n",
        "db.col.update_many(present_data,new_data)"
      ],
      "metadata": {
        "id": "Lau1gT2ar81u",
        "colab": {
          "base_uri": "https://localhost:8080/"
        },
        "outputId": "5d80efe2-5dcf-40cb-e635-2af7d4236693"
      },
      "execution_count": 21,
      "outputs": [
        {
          "output_type": "execute_result",
          "data": {
            "text/plain": [
              "<pymongo.results.UpdateResult at 0x7f50b6e33af0>"
            ]
          },
          "metadata": {},
          "execution_count": 21
        }
      ]
    },
    {
      "cell_type": "code",
      "source": [
        "res2 = db.col.find({'Place':'banglore'})\n",
        "for i in res2:\n",
        "  print(i)"
      ],
      "metadata": {
        "id": "4mgYOyFJrGVb",
        "colab": {
          "base_uri": "https://localhost:8080/"
        },
        "outputId": "436f733f-43bc-4d1a-f8a1-844326d171a7"
      },
      "execution_count": 22,
      "outputs": [
        {
          "output_type": "stream",
          "name": "stdout",
          "text": [
            "{'_id': ObjectId('63b7fb80d3bbf3b852c32678'), 'Name': 'karthik', 'Phone': 4986584554, 'Place': 'banglore'}\n",
            "{'_id': ObjectId('63b7fb80d3bbf3b852c3267c'), 'Name': 'Jagadeesh', 'Phone': 785484684, 'Place': 'banglore'}\n"
          ]
        }
      ]
    },
    {
      "cell_type": "markdown",
      "source": [
        "#Deletion operations"
      ],
      "metadata": {
        "id": "b_MkpoSWtRVP"
      }
    },
    {
      "cell_type": "markdown",
      "source": [
        "There are two ways to delete an document:\n",
        "\n",
        "\n",
        "1.   Delete the document, use the delete_one() method\n",
        "2.   Delete multiple documents, use the delete_many() method"
      ],
      "metadata": {
        "id": "jkd1E5bTxitl"
      }
    },
    {
      "cell_type": "markdown",
      "source": [
        "Delete the document, use delete_one() method"
      ],
      "metadata": {
        "id": "x6VgkapwqykJ"
      }
    },
    {
      "cell_type": "code",
      "source": [
        "#delete_one() requires a query parameter which specifies the document to delete.\n",
        " \n",
        "query2 = {'Place': 'chintaparthi'}\n",
        "db.col.delete_one(query2)"
      ],
      "metadata": {
        "id": "JPyi7CU_tQgn",
        "colab": {
          "base_uri": "https://localhost:8080/"
        },
        "outputId": "222cfc27-2c74-4667-b67f-7f01b84aac0c"
      },
      "execution_count": 23,
      "outputs": [
        {
          "output_type": "execute_result",
          "data": {
            "text/plain": [
              "<pymongo.results.DeleteResult at 0x7f50b6e112b0>"
            ]
          },
          "metadata": {},
          "execution_count": 23
        }
      ]
    },
    {
      "cell_type": "code",
      "source": [
        "res3 = db.col.find()\n",
        "for i in res3:\n",
        "  print(i)"
      ],
      "metadata": {
        "id": "un7rpYHNuW0s",
        "colab": {
          "base_uri": "https://localhost:8080/"
        },
        "outputId": "4b81502c-9ff4-499e-b677-704b764e76e3"
      },
      "execution_count": 24,
      "outputs": [
        {
          "output_type": "stream",
          "name": "stdout",
          "text": [
            "{'_id': ObjectId('63b7fb80d3bbf3b852c32678'), 'Name': 'karthik', 'Phone': 4986584554, 'Place': 'banglore'}\n",
            "{'_id': ObjectId('63b7fb80d3bbf3b852c32679'), 'Name': 'Madhu', 'Phone': 2984457452, 'Place': 'jaipal'}\n",
            "{'_id': ObjectId('63b7fb80d3bbf3b852c3267a'), 'Name': 'Sudha', 'Phone': 5484157185, 'Place': 'coimbatore'}\n",
            "{'_id': ObjectId('63b7fb80d3bbf3b852c3267c'), 'Name': 'Jagadeesh', 'Phone': 785484684, 'Place': 'banglore'}\n"
          ]
        }
      ]
    },
    {
      "cell_type": "markdown",
      "source": [
        "Delete multiple documents, use delete_many() method"
      ],
      "metadata": {
        "id": "xIVNyqqGunwb"
      }
    },
    {
      "cell_type": "code",
      "source": [
        "query3 = {'Place':'banglore'}\n",
        "db.col.delete_many(query3)"
      ],
      "metadata": {
        "id": "q0amFs0HuePy",
        "colab": {
          "base_uri": "https://localhost:8080/"
        },
        "outputId": "a7ddf6cc-6174-416a-a5cb-281825eeead3"
      },
      "execution_count": 25,
      "outputs": [
        {
          "output_type": "execute_result",
          "data": {
            "text/plain": [
              "<pymongo.results.DeleteResult at 0x7f50b7669d30>"
            ]
          },
          "metadata": {},
          "execution_count": 25
        }
      ]
    },
    {
      "cell_type": "code",
      "source": [
        "res4 = db.col.find()\n",
        "for i in res4:\n",
        "  print(i)"
      ],
      "metadata": {
        "id": "_t63E8Tpu7a9",
        "colab": {
          "base_uri": "https://localhost:8080/"
        },
        "outputId": "b1dc7984-556e-40e4-d7a3-66f65c63f468"
      },
      "execution_count": 26,
      "outputs": [
        {
          "output_type": "stream",
          "name": "stdout",
          "text": [
            "{'_id': ObjectId('63b7fb80d3bbf3b852c32679'), 'Name': 'Madhu', 'Phone': 2984457452, 'Place': 'jaipal'}\n",
            "{'_id': ObjectId('63b7fb80d3bbf3b852c3267a'), 'Name': 'Sudha', 'Phone': 5484157185, 'Place': 'coimbatore'}\n"
          ]
        }
      ]
    }
  ]
}