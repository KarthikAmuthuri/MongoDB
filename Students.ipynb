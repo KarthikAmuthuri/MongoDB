{
  "nbformat": 4,
  "nbformat_minor": 0,
  "metadata": {
    "colab": {
      "provenance": [],
      "collapsed_sections": [
        "pVxBzxEwBeRj",
        "L1gLRYIcRbaJ"
      ],
      "authorship_tag": "ABX9TyMN8uEC64JUU32e8x3cIOQ7",
      "include_colab_link": true
    },
    "kernelspec": {
      "name": "python3",
      "display_name": "Python 3"
    },
    "language_info": {
      "name": "python"
    }
  },
  "cells": [
    {
      "cell_type": "markdown",
      "metadata": {
        "id": "view-in-github",
        "colab_type": "text"
      },
      "source": [
        "<a href=\"https://colab.research.google.com/github/KarthikAmuthuri/MongoDB/blob/main/Students.ipynb\" target=\"_parent\"><img src=\"https://colab.research.google.com/assets/colab-badge.svg\" alt=\"Open In Colab\"/></a>"
      ]
    },
    {
      "cell_type": "code",
      "execution_count": 1,
      "metadata": {
        "colab": {
          "base_uri": "https://localhost:8080/"
        },
        "id": "UtSS9RSCRaoh",
        "outputId": "630cf1e1-09e2-4abe-bea0-f6c697752922"
      },
      "outputs": [
        {
          "output_type": "stream",
          "name": "stdout",
          "text": [
            "\n",
            "WARNING: apt does not have a stable CLI interface. Use with caution in scripts.\n",
            "\n",
            " * Starting database mongodb\n",
            "   ...done.\n"
          ]
        }
      ],
      "source": [
        "# install and start server\n",
        "!apt install mongodb >log\n",
        "!service mongodb start"
      ]
    },
    {
      "cell_type": "code",
      "source": [
        "from pymongo import MongoClient\n",
        "client = MongoClient()\n",
        "client.list_database_names()"
      ],
      "metadata": {
        "id": "qYMcM_mdRkLx",
        "colab": {
          "base_uri": "https://localhost:8080/"
        },
        "outputId": "986fd54f-9178-44d4-a9a6-660564a90ec0"
      },
      "execution_count": 2,
      "outputs": [
        {
          "output_type": "execute_result",
          "data": {
            "text/plain": [
              "['admin', 'local']"
            ]
          },
          "metadata": {},
          "execution_count": 2
        }
      ]
    },
    {
      "cell_type": "code",
      "source": [
        "#creating database called \"school\"\n",
        "mydb = client['school'] #or client.school"
      ],
      "metadata": {
        "id": "M-CTiZJBRyvO"
      },
      "execution_count": 3,
      "outputs": []
    },
    {
      "cell_type": "code",
      "source": [
        "#creating collection called students\n",
        "mycol = mydb.students"
      ],
      "metadata": {
        "id": "96GSsfE5SEZg"
      },
      "execution_count": 4,
      "outputs": []
    },
    {
      "cell_type": "code",
      "source": [
        "client.list_database_names()"
      ],
      "metadata": {
        "colab": {
          "base_uri": "https://localhost:8080/"
        },
        "id": "eCUiTrNeR_C8",
        "outputId": "1cb4b2ae-ab3a-4230-dad9-da67cf903dfa"
      },
      "execution_count": 5,
      "outputs": [
        {
          "output_type": "execute_result",
          "data": {
            "text/plain": [
              "['admin', 'local']"
            ]
          },
          "metadata": {},
          "execution_count": 5
        }
      ]
    },
    {
      "cell_type": "code",
      "source": [
        "mydb.list_collection_names()"
      ],
      "metadata": {
        "colab": {
          "base_uri": "https://localhost:8080/"
        },
        "id": "-aMzErCOSC_b",
        "outputId": "efb2a3fa-012e-4781-c562-e8cb3608078c"
      },
      "execution_count": 6,
      "outputs": [
        {
          "output_type": "execute_result",
          "data": {
            "text/plain": [
              "[]"
            ]
          },
          "metadata": {},
          "execution_count": 6
        }
      ]
    },
    {
      "cell_type": "code",
      "source": [
        "import json\n",
        "data = [json.loads(line) for line in open('students.json', 'r' )]\n",
        "len(data)"
      ],
      "metadata": {
        "id": "XlMj31xLScLr",
        "colab": {
          "base_uri": "https://localhost:8080/"
        },
        "outputId": "329fe971-a64e-4538-abd8-dec33d06c575"
      },
      "execution_count": 7,
      "outputs": [
        {
          "output_type": "execute_result",
          "data": {
            "text/plain": [
              "200"
            ]
          },
          "metadata": {},
          "execution_count": 7
        }
      ]
    },
    {
      "cell_type": "code",
      "source": [
        "j = 0\n",
        "for i in range(1,200):\n",
        "  mydb.mycol.insert_many(data[j:i])\n",
        "  j += 1"
      ],
      "metadata": {
        "id": "2ga3_3vLS7Qp"
      },
      "execution_count": 8,
      "outputs": []
    },
    {
      "cell_type": "code",
      "source": [
        "client.list_database_names()"
      ],
      "metadata": {
        "colab": {
          "base_uri": "https://localhost:8080/"
        },
        "id": "J3yyeqsDTKN_",
        "outputId": "4fade7a1-1a69-484f-ec6a-29cef475fa6f"
      },
      "execution_count": 9,
      "outputs": [
        {
          "output_type": "execute_result",
          "data": {
            "text/plain": [
              "['admin', 'local', 'school']"
            ]
          },
          "metadata": {},
          "execution_count": 9
        }
      ]
    },
    {
      "cell_type": "code",
      "source": [
        "mydb.list_collection_names()"
      ],
      "metadata": {
        "colab": {
          "base_uri": "https://localhost:8080/"
        },
        "id": "krMgc1awVdNJ",
        "outputId": "1f7fd56e-3ce2-46d6-9394-7a9bb0718c46"
      },
      "execution_count": 10,
      "outputs": [
        {
          "output_type": "execute_result",
          "data": {
            "text/plain": [
              "['mycol']"
            ]
          },
          "metadata": {},
          "execution_count": 10
        }
      ]
    },
    {
      "cell_type": "code",
      "source": [
        "mydb.mycol.find_one()"
      ],
      "metadata": {
        "colab": {
          "base_uri": "https://localhost:8080/"
        },
        "id": "uTVOZ0RQBBSw",
        "outputId": "9324c62a-9557-4eeb-86ec-109c64744b4a"
      },
      "execution_count": 11,
      "outputs": [
        {
          "output_type": "execute_result",
          "data": {
            "text/plain": [
              "{'_id': 0,\n",
              " 'name': 'aimee Zank',\n",
              " 'scores': [{'score': 1.463179736705023, 'type': 'exam'},\n",
              "  {'score': 11.78273309957772, 'type': 'quiz'},\n",
              "  {'score': 35.8740349954354, 'type': 'homework'}]}"
            ]
          },
          "metadata": {},
          "execution_count": 11
        }
      ]
    },
    {
      "cell_type": "markdown",
      "source": [
        "#1) Find the student name who scored maximum scores in all (exam, quiz and homework)?"
      ],
      "metadata": {
        "id": "pVxBzxEwBeRj"
      }
    },
    {
      "cell_type": "code",
      "source": [
        "agg_result = mydb.mycol.aggregate([{'$unwind':'$scores'},{'$group': {'_id':'$_id','total_score':{'$sum':'$scores.score'}}},\n",
        "                      {'$sort':{'max_score': -1}},{'$limit':1}])\n",
        "for i in agg_result:\n",
        "  print(i)"
      ],
      "metadata": {
        "id": "Z-kITTU5GQi4",
        "colab": {
          "base_uri": "https://localhost:8080/"
        },
        "outputId": "ada6c99a-a5c2-454d-ccd1-c6d3f79ec16c"
      },
      "execution_count": 12,
      "outputs": [
        {
          "output_type": "stream",
          "name": "stdout",
          "text": [
            "{'_id': 94, 'total_score': 155.7771022790884}\n"
          ]
        }
      ]
    },
    {
      "cell_type": "code",
      "source": [
        "final_res = mydb.mycol.find({'_id':13},{'name'})\n",
        "for i in final_res:\n",
        "  print(i['name'])"
      ],
      "metadata": {
        "colab": {
          "base_uri": "https://localhost:8080/"
        },
        "id": "Ad060sRUN-H7",
        "outputId": "efb82f7d-77f9-498e-a931-824e9d6863e1"
      },
      "execution_count": 13,
      "outputs": [
        {
          "output_type": "stream",
          "name": "stdout",
          "text": [
            "Jessika Dagenais\n"
          ]
        }
      ]
    },
    {
      "cell_type": "markdown",
      "source": [
        "The student who scored maximum in all is **Jessika Dagenais**"
      ],
      "metadata": {
        "id": "aUMQ9N80T3mK"
      }
    },
    {
      "cell_type": "markdown",
      "source": [
        "#2) Find students who scored below average in the exam and pass mark is 40%?"
      ],
      "metadata": {
        "id": "L1gLRYIcRbaJ"
      }
    },
    {
      "cell_type": "code",
      "source": [
        "agg_res = mydb.mycol.aggregate([\n",
        "    {'$unwind': '$scores'},\n",
        "    {'$match' : {'scores.type': 'exam'}},\n",
        "    {'$group': {\n",
        "        '_id': '$_id',\n",
        "        'avg_exam_score': {'$avg':'$scores.score'},\n",
        "        'pass_mark' :{'$sum':{'$cond':[{'$gte' : ['$scores.score', 40]}, 1, 0]}},\n",
        "        'below_avg': {'$sum': { \"$cond\": [{ \"$lt\": [\"$scores.score\", 48.50]}, 1, 0 ]}}}\n",
        "        }\n",
        "       ])\n",
        "\n",
        "indices_of_below_avg_students_in_exam = []\n",
        "\n",
        "for i in agg_res:\n",
        "  if i['below_avg'] == 1 and i['pass_mark'] == 1:\n",
        "    indices_of_below_avg_students_in_exam.append(i['_id'])"
      ],
      "metadata": {
        "id": "F2fVVIjaAAQP"
      },
      "execution_count": 14,
      "outputs": []
    },
    {
      "cell_type": "code",
      "source": [
        "print(\"students who scored below average and passed in the exam:\\n\")\n",
        "for i in indices_of_below_avg_students_in_exam:\n",
        "  res = mydb.mycol.find_one({'_id': i})\n",
        "  print(res)"
      ],
      "metadata": {
        "colab": {
          "base_uri": "https://localhost:8080/"
        },
        "id": "cxYWhY1qLvTD",
        "outputId": "e1e62aaa-b293-4fe5-a045-9ad047028aea"
      },
      "execution_count": 15,
      "outputs": [
        {
          "output_type": "stream",
          "name": "stdout",
          "text": [
            "students who scored below average and passed in the exam:\n",
            "\n",
            "{'_id': 89, 'name': 'Cassi Heal', 'scores': [{'score': 43.04310994985133, 'type': 'exam'}, {'score': 0.006247360551892012, 'type': 'quiz'}, {'score': 63.88558436723092, 'type': 'homework'}]}\n",
            "{'_id': 68, 'name': 'Jenise Mcguffie', 'scores': [{'score': 40.15210496060384, 'type': 'exam'}, {'score': 90.60219950183566, 'type': 'quiz'}, {'score': 51.58720341010564, 'type': 'homework'}]}\n",
            "{'_id': 42, 'name': 'Kayce Kenyon', 'scores': [{'score': 44.62441703708117, 'type': 'exam'}, {'score': 27.38208798553111, 'type': 'quiz'}, {'score': 97.43587143437509, 'type': 'homework'}]}\n",
            "{'_id': 155, 'name': 'Aleida Elsass', 'scores': [{'score': 42.89558347656537, 'type': 'exam'}, {'score': 94.10647660402866, 'type': 'quiz'}, {'score': 30.56402201379193, 'type': 'homework'}]}\n",
            "{'_id': 5, 'name': 'Wilburn Spiess', 'scores': [{'score': 44.87186330181261, 'type': 'exam'}, {'score': 25.72395114668016, 'type': 'quiz'}, {'score': 63.42288310628662, 'type': 'homework'}]}\n",
            "{'_id': 19, 'name': 'Gisela Levin', 'scores': [{'score': 44.51211101958831, 'type': 'exam'}, {'score': 0.6578497966368002, 'type': 'quiz'}, {'score': 93.36341655949683, 'type': 'homework'}]}\n",
            "{'_id': 45, 'name': 'Terica Brugger', 'scores': [{'score': 42.1011312120801, 'type': 'exam'}, {'score': 41.73654145887228, 'type': 'quiz'}, {'score': 18.91287189072117, 'type': 'homework'}]}\n",
            "{'_id': 23, 'name': 'Tamika Schildgen', 'scores': [{'score': 45.65432764125526, 'type': 'exam'}, {'score': 64.32927049658846, 'type': 'quiz'}, {'score': 83.53933351660562, 'type': 'homework'}]}\n",
            "{'_id': 143, 'name': 'Gwyneth Garling', 'scores': [{'score': 44.29553481758053, 'type': 'exam'}, {'score': 23.15599504527296, 'type': 'quiz'}, {'score': 84.83695219376807, 'type': 'homework'}]}\n",
            "{'_id': 21, 'name': 'Rosana Vales', 'scores': [{'score': 46.2289476258328, 'type': 'exam'}, {'score': 98.34164225207036, 'type': 'quiz'}, {'score': 36.18769746805938, 'type': 'homework'}]}\n",
            "{'_id': 29, 'name': 'Gwyneth Garling', 'scores': [{'score': 48.36644963899371, 'type': 'exam'}, {'score': 10.37827022865908, 'type': 'quiz'}, {'score': 93.26639335532833, 'type': 'homework'}]}\n",
            "{'_id': 100, 'name': 'Demarcus Audette', 'scores': [{'score': 47.42608580155614, 'type': 'exam'}, {'score': 44.83416623719906, 'type': 'quiz'}, {'score': 39.01726616178844, 'type': 'homework'}]}\n",
            "{'_id': 57, 'name': 'Chad Rahe', 'scores': [{'score': 40.84572027366789, 'type': 'exam'}, {'score': 29.22733629679561, 'type': 'quiz'}, {'score': 93.12112348179406, 'type': 'homework'}]}\n",
            "{'_id': 109, 'name': 'Flora Duell', 'scores': [{'score': 40.68238966626067, 'type': 'exam'}, {'score': 46.77972040308903, 'type': 'quiz'}, {'score': 69.29400057020965, 'type': 'homework'}]}\n",
            "{'_id': 126, 'name': 'Quincy Danaher', 'scores': [{'score': 40.53136904234401, 'type': 'exam'}, {'score': 83.09270171511093, 'type': 'quiz'}, {'score': 79.004550587978, 'type': 'homework'}]}\n",
            "{'_id': 128, 'name': 'Alix Sherrill', 'scores': [{'score': 43.67436243299881, 'type': 'exam'}, {'score': 14.98112420690882, 'type': 'quiz'}, {'score': 23.62416821198536, 'type': 'homework'}]}\n",
            "{'_id': 167, 'name': 'Malisa Jeanes', 'scores': [{'score': 40.68676040665008, 'type': 'exam'}, {'score': 52.60826688242043, 'type': 'quiz'}, {'score': 94.67979508129564, 'type': 'homework'}]}\n",
            "{'_id': 142, 'name': 'Laureen Salomone', 'scores': [{'score': 42.54322973844196, 'type': 'exam'}, {'score': 33.03152379449381, 'type': 'quiz'}, {'score': 77.52357320933667, 'type': 'homework'}]}\n",
            "{'_id': 10, 'name': 'Denisha Cast', 'scores': [{'score': 45.61876862259409, 'type': 'exam'}, {'score': 98.35723209418343, 'type': 'quiz'}, {'score': 55.90835657173456, 'type': 'homework'}]}\n",
            "{'_id': 20, 'name': 'Tressa Schwing', 'scores': [{'score': 42.17439799514388, 'type': 'exam'}, {'score': 71.99314840599558, 'type': 'quiz'}, {'score': 81.23972632069464, 'type': 'homework'}]}\n",
            "{'_id': 164, 'name': 'Alica Pasley', 'scores': [{'score': 41.3852820348269, 'type': 'exam'}, {'score': 87.0183839032626, 'type': 'quiz'}, {'score': 37.22917544696978, 'type': 'homework'}]}\n",
            "{'_id': 193, 'name': 'Mariela Sherer', 'scores': [{'score': 47.67196715489599, 'type': 'exam'}, {'score': 41.55743490493954, 'type': 'quiz'}, {'score': 70.4612811769744, 'type': 'homework'}]}\n",
            "{'_id': 184, 'name': 'Harriett Velarde', 'scores': [{'score': 41.47988283148075, 'type': 'exam'}, {'score': 95.69493673358075, 'type': 'quiz'}, {'score': 83.03916048182315, 'type': 'homework'}]}\n"
          ]
        }
      ]
    },
    {
      "cell_type": "markdown",
      "source": [
        "#3) Find students who scored below pass mark and assigned them as fail, and above pass mark as pass in all the categories."
      ],
      "metadata": {
        "id": "KBJAJFEyq7EL"
      }
    },
    {
      "cell_type": "code",
      "source": [
        "query3 = mydb.mycol.aggregate([\n",
        "    {'$unwind':'$scores'},\n",
        "    {'$match':{'$or':[{'scores.type': 'exam'},{'scores.type':'quiz'},{'scores.type':'homework'}]}},\n",
        "    {'$group':{\n",
        "     '_id':'$_id',\n",
        "     'total':{'$sum':'$scores.score'},\n",
        "     'average':{'$avg':{'$sum':'$scores.score'}},\n",
        "     }}])\n",
        "\n",
        "for i in query3:\n",
        "  if i['total'] > 200 or i['average'] >= 73:\n",
        "    i['result'] = 'pass'\n",
        "  else:\n",
        "    i['result'] = 'fail'\n",
        "  print(i)"
      ],
      "metadata": {
        "colab": {
          "base_uri": "https://localhost:8080/"
        },
        "id": "IRWP-P30q_TG",
        "outputId": "6b4182b8-c9eb-402c-bf2f-2263185b17ef"
      },
      "execution_count": 16,
      "outputs": [
        {
          "output_type": "stream",
          "name": "stdout",
          "text": [
            "{'_id': 94, 'total': 155.7771022790884, 'average': 51.925700759696134, 'result': 'fail'}\n",
            "{'_id': 78, 'total': 116.94520656066045, 'average': 38.98173552022015, 'result': 'fail'}\n",
            "{'_id': 120, 'total': 107.87159055374062, 'average': 35.95719685124687, 'result': 'fail'}\n",
            "{'_id': 138, 'total': 115.54875333859893, 'average': 38.51625111286631, 'result': 'fail'}\n",
            "{'_id': 36, 'total': 219.003552388691, 'average': 73.00118412956367, 'result': 'pass'}\n",
            "{'_id': 189, 'total': 181.79622614209114, 'average': 60.598742047363714, 'result': 'fail'}\n",
            "{'_id': 89, 'total': 106.93494167763413, 'average': 35.644980559211376, 'result': 'fail'}\n",
            "{'_id': 146, 'total': 201.4156031244819, 'average': 67.1385343748273, 'result': 'pass'}\n",
            "{'_id': 58, 'total': 120.66923159080469, 'average': 40.223077196934895, 'result': 'fail'}\n",
            "{'_id': 72, 'total': 206.92216095602325, 'average': 68.97405365200775, 'result': 'pass'}\n",
            "{'_id': 180, 'total': 160.22762084530626, 'average': 53.40920694843542, 'result': 'fail'}\n",
            "{'_id': 70, 'total': 176.07490979439646, 'average': 58.691636598132156, 'result': 'fail'}\n",
            "{'_id': 69, 'total': 202.4848718127078, 'average': 67.4949572709026, 'result': 'pass'}\n",
            "{'_id': 114, 'total': 130.9721943324432, 'average': 43.6573981108144, 'result': 'fail'}\n",
            "{'_id': 66, 'total': 94.82481083119796, 'average': 31.608270277065987, 'result': 'fail'}\n",
            "{'_id': 71, 'total': 178.913172052241, 'average': 59.63772401741367, 'result': 'fail'}\n",
            "{'_id': 27, 'total': 82.6560500090462, 'average': 27.552016669682065, 'result': 'fail'}\n",
            "{'_id': 113, 'total': 158.1297878869123, 'average': 52.70992929563744, 'result': 'fail'}\n",
            "{'_id': 63, 'total': 72.74345907466646, 'average': 24.247819691555488, 'result': 'fail'}\n",
            "{'_id': 54, 'total': 242.0364415445718, 'average': 80.6788138481906, 'result': 'pass'}\n",
            "{'_id': 149, 'total': 141.50995457365985, 'average': 47.16998485788662, 'result': 'fail'}\n",
            "{'_id': 62, 'total': 132.2872844609489, 'average': 44.09576148698297, 'result': 'fail'}\n",
            "{'_id': 47, 'total': 147.7356498111623, 'average': 49.24521660372076, 'result': 'fail'}\n",
            "{'_id': 88, 'total': 183.8870127743818, 'average': 61.29567092479393, 'result': 'fail'}\n",
            "{'_id': 181, 'total': 100.71792724568269, 'average': 33.57264241522756, 'result': 'fail'}\n",
            "{'_id': 68, 'total': 182.34150787254515, 'average': 60.780502624181715, 'result': 'fail'}\n",
            "{'_id': 53, 'total': 121.1518349933377, 'average': 40.38394499777923, 'result': 'fail'}\n",
            "{'_id': 139, 'total': 160.0864123492324, 'average': 53.36213744974413, 'result': 'fail'}\n",
            "{'_id': 51, 'total': 200.94891534204805, 'average': 66.98297178068269, 'result': 'pass'}\n",
            "{'_id': 13, 'total': 275.94947751518237, 'average': 91.98315917172745, 'result': 'pass'}\n",
            "{'_id': 4, 'total': 203.3963625302728, 'average': 67.79878751009093, 'result': 'pass'}\n",
            "{'_id': 86, 'total': 135.07862363042534, 'average': 45.02620787680845, 'result': 'fail'}\n",
            "{'_id': 92, 'total': 115.74213180964733, 'average': 38.58071060321578, 'result': 'fail'}\n",
            "{'_id': 38, 'total': 182.2378812069286, 'average': 60.74596040230953, 'result': 'fail'}\n",
            "{'_id': 49, 'total': 183.2179783546083, 'average': 61.072659451536104, 'result': 'fail'}\n",
            "{'_id': 18, 'total': 228.46404278930964, 'average': 76.15468092976988, 'result': 'pass'}\n",
            "{'_id': 42, 'total': 169.44237645698738, 'average': 56.48079215232912, 'result': 'fail'}\n",
            "{'_id': 95, 'total': 122.70623232239147, 'average': 40.90207744079716, 'result': 'fail'}\n",
            "{'_id': 115, 'total': 105.10579094395169, 'average': 35.035263647983896, 'result': 'fail'}\n",
            "{'_id': 30, 'total': 139.48229678140956, 'average': 46.49409892713652, 'result': 'fail'}\n",
            "{'_id': 59, 'total': 131.55784600976585, 'average': 43.85261533658862, 'result': 'fail'}\n",
            "{'_id': 79, 'total': 204.9282017860081, 'average': 68.30940059533603, 'result': 'pass'}\n",
            "{'_id': 34, 'total': 163.84548928047394, 'average': 54.61516309349131, 'result': 'fail'}\n",
            "{'_id': 14, 'total': 118.48870352377075, 'average': 39.49623450792358, 'result': 'fail'}\n",
            "{'_id': 64, 'total': 268.6463713649928, 'average': 89.54879045499759, 'result': 'pass'}\n",
            "{'_id': 9, 'total': 220.08328118626565, 'average': 73.36109372875522, 'result': 'pass'}\n",
            "{'_id': 162, 'total': 123.87383657752201, 'average': 41.29127885917401, 'result': 'fail'}\n",
            "{'_id': 2, 'total': 139.61606947126907, 'average': 46.53868982375636, 'result': 'fail'}\n",
            "{'_id': 67, 'total': 222.43538108594768, 'average': 74.14512702864923, 'result': 'pass'}\n",
            "{'_id': 132, 'total': 145.68727217339975, 'average': 48.562424057799916, 'result': 'fail'}\n",
            "{'_id': 11, 'total': 248.5091538691126, 'average': 82.83638462303753, 'result': 'pass'}\n",
            "{'_id': 31, 'total': 150.89635115040903, 'average': 50.29878371680301, 'result': 'fail'}\n",
            "{'_id': 91, 'total': 206.94394766986875, 'average': 68.98131588995625, 'result': 'pass'}\n",
            "{'_id': 35, 'total': 137.7409456810277, 'average': 45.91364856034257, 'result': 'fail'}\n",
            "{'_id': 150, 'total': 126.52248166745106, 'average': 42.17416055581702, 'result': 'fail'}\n",
            "{'_id': 108, 'total': 211.94374606058196, 'average': 70.64791535352732, 'result': 'pass'}\n",
            "{'_id': 155, 'total': 167.56608209438596, 'average': 55.855360698128656, 'result': 'fail'}\n",
            "{'_id': 90, 'total': 185.53797432894692, 'average': 61.8459914429823, 'result': 'fail'}\n",
            "{'_id': 37, 'total': 193.9294745099881, 'average': 64.64315816999603, 'result': 'fail'}\n",
            "{'_id': 74, 'total': 216.63267038170724, 'average': 72.21089012723574, 'result': 'pass'}\n",
            "{'_id': 166, 'total': 243.58164706138706, 'average': 81.19388235379569, 'result': 'pass'}\n",
            "{'_id': 5, 'total': 134.0186975547794, 'average': 44.67289918492647, 'result': 'fail'}\n",
            "{'_id': 73, 'total': 132.19316603930335, 'average': 44.06438867976778, 'result': 'fail'}\n",
            "{'_id': 87, 'total': 90.29289206681383, 'average': 30.097630688937944, 'result': 'fail'}\n",
            "{'_id': 82, 'total': 181.00006173963334, 'average': 60.33335391321111, 'result': 'fail'}\n",
            "{'_id': 122, 'total': 171.68464931123447, 'average': 57.22821643707815, 'result': 'fail'}\n",
            "{'_id': 26, 'total': 139.96370462720506, 'average': 46.65456820906835, 'result': 'fail'}\n",
            "{'_id': 124, 'total': 118.2341215780863, 'average': 39.4113738593621, 'result': 'fail'}\n",
            "{'_id': 61, 'total': 197.34049948667015, 'average': 65.78016649555671, 'result': 'fail'}\n",
            "{'_id': 19, 'total': 138.53337737572195, 'average': 46.17779245857398, 'result': 'fail'}\n",
            "{'_id': 6, 'total': 147.2203575476617, 'average': 49.07345251588723, 'result': 'fail'}\n",
            "{'_id': 77, 'total': 175.44760101431834, 'average': 58.48253367143945, 'result': 'fail'}\n",
            "{'_id': 7, 'total': 229.3959334774732, 'average': 76.46531115915774, 'result': 'pass'}\n",
            "{'_id': 16, 'total': 120.13675287379564, 'average': 40.045584291265214, 'result': 'fail'}\n",
            "{'_id': 3, 'total': 138.70712252233457, 'average': 46.23570750744486, 'result': 'fail'}\n",
            "{'_id': 28, 'total': 93.67011710439672, 'average': 31.223372368132242, 'result': 'fail'}\n",
            "{'_id': 85, 'total': 178.820098003648, 'average': 59.60669933454934, 'result': 'fail'}\n",
            "{'_id': 76, 'total': 147.47020593990004, 'average': 49.15673531330001, 'result': 'fail'}\n",
            "{'_id': 1, 'total': 184.61969202100374, 'average': 61.53989734033458, 'result': 'fail'}\n",
            "{'_id': 178, 'total': 177.765433771189, 'average': 59.255144590396334, 'result': 'fail'}\n",
            "{'_id': 179, 'total': 201.16314710069156, 'average': 67.05438236689719, 'result': 'pass'}\n",
            "{'_id': 55, 'total': 244.5023996395232, 'average': 81.50079987984107, 'result': 'pass'}\n",
            "{'_id': 50, 'total': 168.7205264204154, 'average': 56.2401754734718, 'result': 'fail'}\n",
            "{'_id': 15, 'total': 117.50008641174173, 'average': 39.16669547058058, 'result': 'fail'}\n",
            "{'_id': 45, 'total': 102.75054456167355, 'average': 34.25018152055785, 'result': 'fail'}\n",
            "{'_id': 125, 'total': 137.0342890305606, 'average': 45.678096343520195, 'result': 'fail'}\n",
            "{'_id': 81, 'total': 171.94196655853844, 'average': 57.313988852846144, 'result': 'fail'}\n",
            "{'_id': 65, 'total': 177.76002098364026, 'average': 59.25334032788009, 'result': 'fail'}\n",
            "{'_id': 8, 'total': 112.71677331754347, 'average': 37.57225777251449, 'result': 'fail'}\n",
            "{'_id': 39, 'total': 156.18768410864072, 'average': 52.062561369546906, 'result': 'fail'}\n",
            "{'_id': 187, 'total': 100.39268848940416, 'average': 33.46422949646806, 'result': 'fail'}\n",
            "{'_id': 22, 'total': 182.00563535570944, 'average': 60.66854511856982, 'result': 'fail'}\n",
            "{'_id': 60, 'total': 182.36423465019507, 'average': 60.78807821673169, 'result': 'fail'}\n",
            "{'_id': 23, 'total': 193.52293165444934, 'average': 64.50764388481645, 'result': 'fail'}\n",
            "{'_id': 143, 'total': 152.28848205662155, 'average': 50.76282735220718, 'result': 'fail'}\n",
            "{'_id': 24, 'total': 149.10807613148083, 'average': 49.70269204382694, 'result': 'fail'}\n",
            "{'_id': 25, 'total': 148.54969223180623, 'average': 49.51656407726875, 'result': 'fail'}\n",
            "{'_id': 56, 'total': 119.00689284424402, 'average': 39.668964281414674, 'result': 'fail'}\n",
            "{'_id': 17, 'total': 218.24398017942121, 'average': 72.7479933931404, 'result': 'pass'}\n",
            "{'_id': 83, 'total': 131.11934974450202, 'average': 43.706449914834, 'result': 'fail'}\n",
            "{'_id': 75, 'total': 201.82584001807396, 'average': 67.27528000602466, 'result': 'pass'}\n",
            "{'_id': 117, 'total': 154.0475585018162, 'average': 51.34918616727207, 'result': 'fail'}\n",
            "{'_id': 40, 'total': 180.20639736938892, 'average': 60.068799123129644, 'result': 'fail'}\n",
            "{'_id': 44, 'total': 114.15826509656077, 'average': 38.05275503218692, 'result': 'fail'}\n",
            "{'_id': 21, 'total': 180.75828734596254, 'average': 60.25276244865418, 'result': 'fail'}\n",
            "{'_id': 52, 'total': 266.99578221547233, 'average': 88.99859407182412, 'result': 'pass'}\n",
            "{'_id': 33, 'total': 158.6873725512847, 'average': 52.895790850428234, 'result': 'fail'}\n",
            "{'_id': 29, 'total': 152.01111322298112, 'average': 50.67037107432704, 'result': 'fail'}\n",
            "{'_id': 173, 'total': 154.92533590812064, 'average': 51.641778636040215, 'result': 'fail'}\n",
            "{'_id': 32, 'total': 263.26630272241187, 'average': 87.75543424080395, 'result': 'pass'}\n",
            "{'_id': 183, 'total': 201.24422489578706, 'average': 67.08140829859569, 'result': 'pass'}\n",
            "{'_id': 0, 'total': 49.11994783171814, 'average': 16.373315943906046, 'result': 'fail'}\n",
            "{'_id': 84, 'total': 216.29819060759476, 'average': 72.09939686919826, 'result': 'pass'}\n",
            "{'_id': 130, 'total': 199.56471905226374, 'average': 66.52157301742125, 'result': 'fail'}\n",
            "{'_id': 157, 'total': 160.1015626796132, 'average': 53.36718755987107, 'result': 'fail'}\n",
            "{'_id': 43, 'total': 124.72878418014199, 'average': 41.57626139338066, 'result': 'fail'}\n",
            "{'_id': 96, 'total': 104.19377141035015, 'average': 34.731257136783384, 'result': 'fail'}\n",
            "{'_id': 98, 'total': 244.82763178118856, 'average': 81.60921059372951, 'result': 'pass'}\n",
            "{'_id': 140, 'total': 102.86145390316119, 'average': 34.28715130105373, 'result': 'fail'}\n",
            "{'_id': 100, 'total': 131.27751820054362, 'average': 43.75917273351454, 'result': 'fail'}\n",
            "{'_id': 99, 'total': 174.5461576760983, 'average': 58.18205255869943, 'result': 'fail'}\n",
            "{'_id': 57, 'total': 163.19418005225754, 'average': 54.398060017419176, 'result': 'fail'}\n",
            "{'_id': 176, 'total': 133.82960397641585, 'average': 44.60986799213862, 'result': 'fail'}\n",
            "{'_id': 46, 'total': 131.29270853967185, 'average': 43.76423617989062, 'result': 'fail'}\n",
            "{'_id': 101, 'total': 155.30833228670144, 'average': 51.769444095567145, 'result': 'fail'}\n",
            "{'_id': 102, 'total': 175.59251820500876, 'average': 58.53083940166959, 'result': 'fail'}\n",
            "{'_id': 103, 'total': 178.1433701618344, 'average': 59.38112338727814, 'result': 'fail'}\n",
            "{'_id': 12, 'total': 220.3184379933348, 'average': 73.4394793311116, 'result': 'pass'}\n",
            "{'_id': 104, 'total': 247.51315928921287, 'average': 82.50438642973762, 'result': 'pass'}\n",
            "{'_id': 188, 'total': 176.30791809119162, 'average': 58.76930603039721, 'result': 'fail'}\n",
            "{'_id': 105, 'total': 236.5473215674034, 'average': 78.84910718913447, 'result': 'pass'}\n",
            "{'_id': 110, 'total': 173.43955303906787, 'average': 57.81318434635596, 'result': 'fail'}\n",
            "{'_id': 107, 'total': 129.29870077731468, 'average': 43.09956692577156, 'result': 'fail'}\n",
            "{'_id': 172, 'total': 224.32072038808982, 'average': 74.7735734626966, 'result': 'pass'}\n",
            "{'_id': 192, 'total': 182.73801465117188, 'average': 60.91267155039063, 'result': 'fail'}\n",
            "{'_id': 97, 'total': 231.17881123988664, 'average': 77.05960374662888, 'result': 'pass'}\n",
            "{'_id': 109, 'total': 156.75611063955935, 'average': 52.252036879853115, 'result': 'fail'}\n",
            "{'_id': 197, 'total': 148.83413523189756, 'average': 49.61137841063252, 'result': 'fail'}\n",
            "{'_id': 111, 'total': 208.03498281392888, 'average': 69.34499427130963, 'result': 'pass'}\n",
            "{'_id': 116, 'total': 221.3468479915618, 'average': 73.78228266385393, 'result': 'pass'}\n",
            "{'_id': 194, 'total': 133.2728581307499, 'average': 44.4242860435833, 'result': 'fail'}\n",
            "{'_id': 165, 'total': 128.08011084675638, 'average': 42.693370282252125, 'result': 'fail'}\n",
            "{'_id': 118, 'total': 205.6587944217254, 'average': 68.55293147390846, 'result': 'pass'}\n",
            "{'_id': 198, 'total': 97.28287057232586, 'average': 32.42762352410862, 'result': 'fail'}\n",
            "{'_id': 135, 'total': 112.23313600351938, 'average': 37.41104533450646, 'result': 'fail'}\n",
            "{'_id': 119, 'total': 210.29151529851958, 'average': 70.09717176617319, 'result': 'pass'}\n",
            "{'_id': 121, 'total': 110.68556639219787, 'average': 36.89518879739929, 'result': 'fail'}\n",
            "{'_id': 123, 'total': 71.27146027282822, 'average': 23.757153424276073, 'result': 'fail'}\n",
            "{'_id': 48, 'total': 206.96494520146337, 'average': 68.98831506715446, 'result': 'pass'}\n",
            "{'_id': 106, 'total': 58.45858761680128, 'average': 19.486195872267093, 'result': 'fail'}\n",
            "{'_id': 126, 'total': 202.62862134543295, 'average': 67.54287378181098, 'result': 'pass'}\n",
            "{'_id': 127, 'total': 263.3989659226766, 'average': 87.79965530755887, 'result': 'pass'}\n",
            "{'_id': 185, 'total': 164.057897124202, 'average': 54.68596570806733, 'result': 'fail'}\n",
            "{'_id': 128, 'total': 82.27965485189299, 'average': 27.426551617297662, 'result': 'fail'}\n",
            "{'_id': 129, 'total': 195.46779056021487, 'average': 65.15593018673829, 'result': 'fail'}\n",
            "{'_id': 131, 'total': 149.26675330972444, 'average': 49.755584436574814, 'result': 'fail'}\n",
            "{'_id': 167, 'total': 187.97482237036616, 'average': 62.658274123455385, 'result': 'fail'}\n",
            "{'_id': 80, 'total': 205.47216171064758, 'average': 68.49072057021586, 'result': 'pass'}\n",
            "{'_id': 133, 'total': 123.94644554660488, 'average': 41.315481848868295, 'result': 'fail'}\n",
            "{'_id': 134, 'total': 166.0992291248508, 'average': 55.366409708283605, 'result': 'fail'}\n",
            "{'_id': 141, 'total': 199.81866315163785, 'average': 66.60622105054595, 'result': 'fail'}\n",
            "{'_id': 136, 'total': 166.81836101629523, 'average': 55.60612033876507, 'result': 'fail'}\n",
            "{'_id': 148, 'total': 174.61862132435388, 'average': 58.20620710811796, 'result': 'fail'}\n",
            "{'_id': 137, 'total': 159.53213257952987, 'average': 53.17737752650996, 'result': 'fail'}\n",
            "{'_id': 142, 'total': 153.09832674227243, 'average': 51.03277558075748, 'result': 'fail'}\n",
            "{'_id': 144, 'total': 183.09592918689077, 'average': 61.03197639563026, 'result': 'fail'}\n",
            "{'_id': 93, 'total': 114.55089488600422, 'average': 38.183631628668074, 'result': 'fail'}\n",
            "{'_id': 10, 'total': 199.8843572885121, 'average': 66.62811909617069, 'result': 'fail'}\n",
            "{'_id': 145, 'total': 87.5629850401662, 'average': 29.1876616800554, 'result': 'fail'}\n",
            "{'_id': 147, 'total': 141.02791381651215, 'average': 47.00930460550405, 'result': 'fail'}\n",
            "{'_id': 151, 'total': 186.33086651795293, 'average': 62.11028883931764, 'result': 'fail'}\n",
            "{'_id': 152, 'total': 139.60355242003698, 'average': 46.53451747334566, 'result': 'fail'}\n",
            "{'_id': 20, 'total': 195.4072727218341, 'average': 65.1357575739447, 'result': 'fail'}\n",
            "{'_id': 153, 'total': 182.97224595186648, 'average': 60.99074865062216, 'result': 'fail'}\n",
            "{'_id': 154, 'total': 164.66123279589482, 'average': 54.887077598631606, 'result': 'fail'}\n",
            "{'_id': 156, 'total': 144.78774966244362, 'average': 48.26258322081454, 'result': 'fail'}\n",
            "{'_id': 112, 'total': 203.79119045268433, 'average': 67.93039681756144, 'result': 'pass'}\n",
            "{'_id': 158, 'total': 165.92615898115974, 'average': 55.30871966038658, 'result': 'fail'}\n",
            "{'_id': 159, 'total': 251.40459832855427, 'average': 83.80153277618476, 'result': 'pass'}\n",
            "{'_id': 160, 'total': 188.71235039768163, 'average': 62.90411679922721, 'result': 'fail'}\n",
            "{'_id': 161, 'total': 169.36123484704996, 'average': 56.45374494901665, 'result': 'fail'}\n",
            "{'_id': 163, 'total': 75.2279417690119, 'average': 25.075980589670635, 'result': 'fail'}\n",
            "{'_id': 190, 'total': 227.1544319588548, 'average': 75.71814398628493, 'result': 'pass'}\n",
            "{'_id': 164, 'total': 165.6328413850593, 'average': 55.2109471283531, 'result': 'fail'}\n",
            "{'_id': 168, 'total': 66.68048171963756, 'average': 22.226827239879185, 'result': 'fail'}\n",
            "{'_id': 169, 'total': 204.71743269051856, 'average': 68.23914423017285, 'result': 'pass'}\n",
            "{'_id': 41, 'total': 191.3374155242169, 'average': 63.7791385080723, 'result': 'fail'}\n",
            "{'_id': 170, 'total': 177.90923607877596, 'average': 59.30307869292532, 'result': 'fail'}\n",
            "{'_id': 174, 'total': 193.43589837735124, 'average': 64.47863279245041, 'result': 'fail'}\n",
            "{'_id': 171, 'total': 181.46853696091893, 'average': 60.48951232030631, 'result': 'fail'}\n",
            "{'_id': 193, 'total': 159.69068323680992, 'average': 53.23022774560331, 'result': 'fail'}\n",
            "{'_id': 175, 'total': 106.35844585670458, 'average': 35.45281528556819, 'result': 'fail'}\n",
            "{'_id': 177, 'total': 216.40738876682235, 'average': 72.13579625560745, 'result': 'pass'}\n",
            "{'_id': 182, 'total': 247.05570912321798, 'average': 82.35190304107266, 'result': 'pass'}\n",
            "{'_id': 184, 'total': 220.21398004688464, 'average': 73.40466001562821, 'result': 'pass'}\n",
            "{'_id': 196, 'total': 164.46610025223168, 'average': 54.82203341741056, 'result': 'fail'}\n",
            "{'_id': 186, 'total': 98.45768055586619, 'average': 32.8192268519554, 'result': 'fail'}\n",
            "{'_id': 191, 'total': 252.83317597388418, 'average': 84.27772532462807, 'result': 'pass'}\n",
            "{'_id': 195, 'total': 154.97337291894834, 'average': 51.65779097298278, 'result': 'fail'}\n"
          ]
        }
      ]
    },
    {
      "cell_type": "markdown",
      "source": [
        "#4) Find the total and average of the exam, quiz and homework and store them in a separate collection. "
      ],
      "metadata": {
        "id": "IrOIHTiXbK2Y"
      }
    },
    {
      "cell_type": "code",
      "source": [
        "mydb.list_collection_names()"
      ],
      "metadata": {
        "colab": {
          "base_uri": "https://localhost:8080/"
        },
        "id": "DE3NZQcChfAV",
        "outputId": "a1aaa22a-ce6d-4b7d-e78d-fd2ccc908205"
      },
      "execution_count": 17,
      "outputs": [
        {
          "output_type": "execute_result",
          "data": {
            "text/plain": [
              "['mycol']"
            ]
          },
          "metadata": {},
          "execution_count": 17
        }
      ]
    },
    {
      "cell_type": "code",
      "source": [
        "total_query = mydb.mycol.aggregate([{'$unwind':'$scores'},{'$group': {'_id':'$_id','total_score':{'$sum':'$scores.score'}}},\n",
        "                      {'$sort':{'max_score': -1}}])\n",
        "\n",
        "total_list = []\n",
        "for i in total_query:\n",
        "  total_list.append(i)"
      ],
      "metadata": {
        "id": "kPBirZ2ibZxh"
      },
      "execution_count": 18,
      "outputs": []
    },
    {
      "cell_type": "code",
      "source": [
        "print('Total scores of the students in all categories:\\n')\n",
        "for i in range(199):\n",
        "  print(total_list[i])"
      ],
      "metadata": {
        "colab": {
          "base_uri": "https://localhost:8080/"
        },
        "id": "DDxXSqaVoYHI",
        "outputId": "59debfb0-1ca4-4694-c3b8-2b214b650082"
      },
      "execution_count": 19,
      "outputs": [
        {
          "output_type": "stream",
          "name": "stdout",
          "text": [
            "Total scores of the students in all categories:\n",
            "\n",
            "{'_id': 94, 'total_score': 155.7771022790884}\n",
            "{'_id': 78, 'total_score': 116.94520656066045}\n",
            "{'_id': 120, 'total_score': 107.87159055374062}\n",
            "{'_id': 138, 'total_score': 115.54875333859893}\n",
            "{'_id': 36, 'total_score': 219.003552388691}\n",
            "{'_id': 189, 'total_score': 181.79622614209114}\n",
            "{'_id': 89, 'total_score': 106.93494167763413}\n",
            "{'_id': 146, 'total_score': 201.4156031244819}\n",
            "{'_id': 58, 'total_score': 120.66923159080469}\n",
            "{'_id': 72, 'total_score': 206.92216095602325}\n",
            "{'_id': 180, 'total_score': 160.22762084530626}\n",
            "{'_id': 70, 'total_score': 176.07490979439646}\n",
            "{'_id': 69, 'total_score': 202.4848718127078}\n",
            "{'_id': 114, 'total_score': 130.9721943324432}\n",
            "{'_id': 66, 'total_score': 94.82481083119796}\n",
            "{'_id': 71, 'total_score': 178.913172052241}\n",
            "{'_id': 27, 'total_score': 82.6560500090462}\n",
            "{'_id': 113, 'total_score': 158.1297878869123}\n",
            "{'_id': 63, 'total_score': 72.74345907466646}\n",
            "{'_id': 54, 'total_score': 242.0364415445718}\n",
            "{'_id': 149, 'total_score': 141.50995457365985}\n",
            "{'_id': 62, 'total_score': 132.2872844609489}\n",
            "{'_id': 47, 'total_score': 147.7356498111623}\n",
            "{'_id': 88, 'total_score': 183.8870127743818}\n",
            "{'_id': 181, 'total_score': 100.71792724568269}\n",
            "{'_id': 68, 'total_score': 182.34150787254515}\n",
            "{'_id': 53, 'total_score': 121.1518349933377}\n",
            "{'_id': 139, 'total_score': 160.0864123492324}\n",
            "{'_id': 51, 'total_score': 200.94891534204805}\n",
            "{'_id': 13, 'total_score': 275.94947751518237}\n",
            "{'_id': 4, 'total_score': 203.3963625302728}\n",
            "{'_id': 86, 'total_score': 135.07862363042534}\n",
            "{'_id': 92, 'total_score': 115.74213180964733}\n",
            "{'_id': 38, 'total_score': 182.2378812069286}\n",
            "{'_id': 49, 'total_score': 183.2179783546083}\n",
            "{'_id': 18, 'total_score': 228.46404278930964}\n",
            "{'_id': 42, 'total_score': 169.44237645698738}\n",
            "{'_id': 95, 'total_score': 122.70623232239147}\n",
            "{'_id': 115, 'total_score': 105.10579094395169}\n",
            "{'_id': 30, 'total_score': 139.48229678140956}\n",
            "{'_id': 59, 'total_score': 131.55784600976585}\n",
            "{'_id': 79, 'total_score': 204.9282017860081}\n",
            "{'_id': 34, 'total_score': 163.84548928047394}\n",
            "{'_id': 14, 'total_score': 118.48870352377075}\n",
            "{'_id': 64, 'total_score': 268.6463713649928}\n",
            "{'_id': 9, 'total_score': 220.08328118626565}\n",
            "{'_id': 162, 'total_score': 123.87383657752201}\n",
            "{'_id': 2, 'total_score': 139.61606947126907}\n",
            "{'_id': 67, 'total_score': 222.43538108594768}\n",
            "{'_id': 132, 'total_score': 145.68727217339975}\n",
            "{'_id': 11, 'total_score': 248.5091538691126}\n",
            "{'_id': 31, 'total_score': 150.89635115040903}\n",
            "{'_id': 91, 'total_score': 206.94394766986875}\n",
            "{'_id': 35, 'total_score': 137.7409456810277}\n",
            "{'_id': 150, 'total_score': 126.52248166745106}\n",
            "{'_id': 108, 'total_score': 211.94374606058196}\n",
            "{'_id': 155, 'total_score': 167.56608209438596}\n",
            "{'_id': 90, 'total_score': 185.53797432894692}\n",
            "{'_id': 37, 'total_score': 193.9294745099881}\n",
            "{'_id': 74, 'total_score': 216.63267038170724}\n",
            "{'_id': 166, 'total_score': 243.58164706138706}\n",
            "{'_id': 5, 'total_score': 134.0186975547794}\n",
            "{'_id': 73, 'total_score': 132.19316603930335}\n",
            "{'_id': 87, 'total_score': 90.29289206681383}\n",
            "{'_id': 82, 'total_score': 181.00006173963334}\n",
            "{'_id': 122, 'total_score': 171.68464931123447}\n",
            "{'_id': 26, 'total_score': 139.96370462720506}\n",
            "{'_id': 124, 'total_score': 118.2341215780863}\n",
            "{'_id': 61, 'total_score': 197.34049948667015}\n",
            "{'_id': 19, 'total_score': 138.53337737572195}\n",
            "{'_id': 6, 'total_score': 147.2203575476617}\n",
            "{'_id': 77, 'total_score': 175.44760101431834}\n",
            "{'_id': 7, 'total_score': 229.3959334774732}\n",
            "{'_id': 16, 'total_score': 120.13675287379564}\n",
            "{'_id': 3, 'total_score': 138.70712252233457}\n",
            "{'_id': 28, 'total_score': 93.67011710439672}\n",
            "{'_id': 85, 'total_score': 178.820098003648}\n",
            "{'_id': 76, 'total_score': 147.47020593990004}\n",
            "{'_id': 1, 'total_score': 184.61969202100374}\n",
            "{'_id': 178, 'total_score': 177.765433771189}\n",
            "{'_id': 179, 'total_score': 201.16314710069156}\n",
            "{'_id': 55, 'total_score': 244.5023996395232}\n",
            "{'_id': 50, 'total_score': 168.7205264204154}\n",
            "{'_id': 15, 'total_score': 117.50008641174173}\n",
            "{'_id': 45, 'total_score': 102.75054456167355}\n",
            "{'_id': 125, 'total_score': 137.0342890305606}\n",
            "{'_id': 81, 'total_score': 171.94196655853844}\n",
            "{'_id': 65, 'total_score': 177.76002098364026}\n",
            "{'_id': 8, 'total_score': 112.71677331754347}\n",
            "{'_id': 39, 'total_score': 156.18768410864072}\n",
            "{'_id': 187, 'total_score': 100.39268848940416}\n",
            "{'_id': 22, 'total_score': 182.00563535570944}\n",
            "{'_id': 60, 'total_score': 182.36423465019507}\n",
            "{'_id': 23, 'total_score': 193.52293165444934}\n",
            "{'_id': 143, 'total_score': 152.28848205662155}\n",
            "{'_id': 24, 'total_score': 149.10807613148083}\n",
            "{'_id': 25, 'total_score': 148.54969223180623}\n",
            "{'_id': 56, 'total_score': 119.00689284424402}\n",
            "{'_id': 17, 'total_score': 218.24398017942121}\n",
            "{'_id': 83, 'total_score': 131.11934974450202}\n",
            "{'_id': 75, 'total_score': 201.82584001807396}\n",
            "{'_id': 117, 'total_score': 154.0475585018162}\n",
            "{'_id': 40, 'total_score': 180.20639736938892}\n",
            "{'_id': 44, 'total_score': 114.15826509656077}\n",
            "{'_id': 21, 'total_score': 180.75828734596254}\n",
            "{'_id': 52, 'total_score': 266.99578221547233}\n",
            "{'_id': 33, 'total_score': 158.6873725512847}\n",
            "{'_id': 29, 'total_score': 152.01111322298112}\n",
            "{'_id': 173, 'total_score': 154.92533590812064}\n",
            "{'_id': 32, 'total_score': 263.26630272241187}\n",
            "{'_id': 183, 'total_score': 201.24422489578706}\n",
            "{'_id': 0, 'total_score': 49.11994783171814}\n",
            "{'_id': 84, 'total_score': 216.29819060759476}\n",
            "{'_id': 130, 'total_score': 199.56471905226374}\n",
            "{'_id': 157, 'total_score': 160.1015626796132}\n",
            "{'_id': 43, 'total_score': 124.72878418014199}\n",
            "{'_id': 96, 'total_score': 104.19377141035015}\n",
            "{'_id': 98, 'total_score': 244.82763178118856}\n",
            "{'_id': 140, 'total_score': 102.86145390316119}\n",
            "{'_id': 100, 'total_score': 131.27751820054362}\n",
            "{'_id': 99, 'total_score': 174.5461576760983}\n",
            "{'_id': 57, 'total_score': 163.19418005225754}\n",
            "{'_id': 176, 'total_score': 133.82960397641585}\n",
            "{'_id': 46, 'total_score': 131.29270853967185}\n",
            "{'_id': 101, 'total_score': 155.30833228670144}\n",
            "{'_id': 102, 'total_score': 175.59251820500876}\n",
            "{'_id': 103, 'total_score': 178.1433701618344}\n",
            "{'_id': 12, 'total_score': 220.3184379933348}\n",
            "{'_id': 104, 'total_score': 247.51315928921287}\n",
            "{'_id': 188, 'total_score': 176.30791809119162}\n",
            "{'_id': 105, 'total_score': 236.5473215674034}\n",
            "{'_id': 110, 'total_score': 173.43955303906787}\n",
            "{'_id': 107, 'total_score': 129.29870077731468}\n",
            "{'_id': 172, 'total_score': 224.32072038808982}\n",
            "{'_id': 192, 'total_score': 182.73801465117188}\n",
            "{'_id': 97, 'total_score': 231.17881123988664}\n",
            "{'_id': 109, 'total_score': 156.75611063955935}\n",
            "{'_id': 197, 'total_score': 148.83413523189756}\n",
            "{'_id': 111, 'total_score': 208.03498281392888}\n",
            "{'_id': 116, 'total_score': 221.3468479915618}\n",
            "{'_id': 194, 'total_score': 133.2728581307499}\n",
            "{'_id': 165, 'total_score': 128.08011084675638}\n",
            "{'_id': 118, 'total_score': 205.6587944217254}\n",
            "{'_id': 198, 'total_score': 97.28287057232586}\n",
            "{'_id': 135, 'total_score': 112.23313600351938}\n",
            "{'_id': 119, 'total_score': 210.29151529851958}\n",
            "{'_id': 121, 'total_score': 110.68556639219787}\n",
            "{'_id': 123, 'total_score': 71.27146027282822}\n",
            "{'_id': 48, 'total_score': 206.96494520146337}\n",
            "{'_id': 106, 'total_score': 58.45858761680128}\n",
            "{'_id': 126, 'total_score': 202.62862134543295}\n",
            "{'_id': 127, 'total_score': 263.3989659226766}\n",
            "{'_id': 185, 'total_score': 164.057897124202}\n",
            "{'_id': 128, 'total_score': 82.27965485189299}\n",
            "{'_id': 129, 'total_score': 195.46779056021487}\n",
            "{'_id': 131, 'total_score': 149.26675330972444}\n",
            "{'_id': 167, 'total_score': 187.97482237036616}\n",
            "{'_id': 80, 'total_score': 205.47216171064758}\n",
            "{'_id': 133, 'total_score': 123.94644554660488}\n",
            "{'_id': 134, 'total_score': 166.0992291248508}\n",
            "{'_id': 141, 'total_score': 199.81866315163785}\n",
            "{'_id': 136, 'total_score': 166.81836101629523}\n",
            "{'_id': 148, 'total_score': 174.61862132435388}\n",
            "{'_id': 137, 'total_score': 159.53213257952987}\n",
            "{'_id': 142, 'total_score': 153.09832674227243}\n",
            "{'_id': 144, 'total_score': 183.09592918689077}\n",
            "{'_id': 93, 'total_score': 114.55089488600422}\n",
            "{'_id': 10, 'total_score': 199.8843572885121}\n",
            "{'_id': 145, 'total_score': 87.5629850401662}\n",
            "{'_id': 147, 'total_score': 141.02791381651215}\n",
            "{'_id': 151, 'total_score': 186.33086651795293}\n",
            "{'_id': 152, 'total_score': 139.60355242003698}\n",
            "{'_id': 20, 'total_score': 195.4072727218341}\n",
            "{'_id': 153, 'total_score': 182.97224595186648}\n",
            "{'_id': 154, 'total_score': 164.66123279589482}\n",
            "{'_id': 156, 'total_score': 144.78774966244362}\n",
            "{'_id': 112, 'total_score': 203.79119045268433}\n",
            "{'_id': 158, 'total_score': 165.92615898115974}\n",
            "{'_id': 159, 'total_score': 251.40459832855427}\n",
            "{'_id': 160, 'total_score': 188.71235039768163}\n",
            "{'_id': 161, 'total_score': 169.36123484704996}\n",
            "{'_id': 163, 'total_score': 75.2279417690119}\n",
            "{'_id': 190, 'total_score': 227.1544319588548}\n",
            "{'_id': 164, 'total_score': 165.6328413850593}\n",
            "{'_id': 168, 'total_score': 66.68048171963756}\n",
            "{'_id': 169, 'total_score': 204.71743269051856}\n",
            "{'_id': 41, 'total_score': 191.3374155242169}\n",
            "{'_id': 170, 'total_score': 177.90923607877596}\n",
            "{'_id': 174, 'total_score': 193.43589837735124}\n",
            "{'_id': 171, 'total_score': 181.46853696091893}\n",
            "{'_id': 193, 'total_score': 159.69068323680992}\n",
            "{'_id': 175, 'total_score': 106.35844585670458}\n",
            "{'_id': 177, 'total_score': 216.40738876682235}\n",
            "{'_id': 182, 'total_score': 247.05570912321798}\n",
            "{'_id': 184, 'total_score': 220.21398004688464}\n",
            "{'_id': 196, 'total_score': 164.46610025223168}\n",
            "{'_id': 186, 'total_score': 98.45768055586619}\n",
            "{'_id': 191, 'total_score': 252.83317597388418}\n",
            "{'_id': 195, 'total_score': 154.97337291894834}\n"
          ]
        }
      ]
    },
    {
      "cell_type": "code",
      "source": [
        "#inserting total scores into new colllection\n",
        "total = mydb.total_scores\n",
        "total.insert_many(total_list)"
      ],
      "metadata": {
        "colab": {
          "base_uri": "https://localhost:8080/"
        },
        "id": "lUQw7gsilVw_",
        "outputId": "a1cbc14c-3370-46e5-9f51-c08a161b6cc9"
      },
      "execution_count": 20,
      "outputs": [
        {
          "output_type": "execute_result",
          "data": {
            "text/plain": [
              "<pymongo.results.InsertManyResult at 0x7f876dac0e50>"
            ]
          },
          "metadata": {},
          "execution_count": 20
        }
      ]
    },
    {
      "cell_type": "code",
      "source": [
        "mydb.list_collection_names()"
      ],
      "metadata": {
        "colab": {
          "base_uri": "https://localhost:8080/"
        },
        "id": "A3_w3HLspwUU",
        "outputId": "facaaa63-9caf-429f-f5b1-056222a27000"
      },
      "execution_count": 21,
      "outputs": [
        {
          "output_type": "execute_result",
          "data": {
            "text/plain": [
              "['mycol', 'total_scores']"
            ]
          },
          "metadata": {},
          "execution_count": 21
        }
      ]
    },
    {
      "cell_type": "markdown",
      "source": [
        "\n",
        "\n",
        "---\n",
        "\n"
      ],
      "metadata": {
        "id": "xStG1Vt9rslm"
      }
    },
    {
      "cell_type": "code",
      "source": [
        "avg_query = mydb.mycol.aggregate([\n",
        "    {'$unwind':\"$scores\"},\n",
        "    {'$match':{'$or':[{\"scores.type\": \"exam\"},{'scores.type':'quiz'},{'scores.type':'homework'}]}},\n",
        "    {'$group':{\n",
        "     '_id':'$_id',\n",
        "     'average':{'$avg':{'$sum':'$scores.score'}}}}\n",
        "     ])\n",
        "\n",
        "avg_list = []\n",
        "for i in avg_query:\n",
        "  avg_list.append(i)"
      ],
      "metadata": {
        "id": "_kYvtwIidcwb"
      },
      "execution_count": 22,
      "outputs": []
    },
    {
      "cell_type": "code",
      "source": [
        "len(avg_list)"
      ],
      "metadata": {
        "colab": {
          "base_uri": "https://localhost:8080/"
        },
        "id": "ZX4ORcrHsCtq",
        "outputId": "c903297c-c5dc-40a1-8977-aaa5cbe022e3"
      },
      "execution_count": 23,
      "outputs": [
        {
          "output_type": "execute_result",
          "data": {
            "text/plain": [
              "199"
            ]
          },
          "metadata": {},
          "execution_count": 23
        }
      ]
    },
    {
      "cell_type": "code",
      "source": [
        "print('Average scores of the students in all categories:\\n')\n",
        "for i in range(199):\n",
        "  print(avg_list[i])"
      ],
      "metadata": {
        "id": "m77Mzi1XbZpR",
        "colab": {
          "base_uri": "https://localhost:8080/"
        },
        "outputId": "f1a0fc57-0da2-41f0-80b6-848104b8c081"
      },
      "execution_count": 24,
      "outputs": [
        {
          "output_type": "stream",
          "name": "stdout",
          "text": [
            "Average scores of the students in all categories:\n",
            "\n",
            "{'_id': 94, 'average': 51.925700759696134}\n",
            "{'_id': 78, 'average': 38.98173552022015}\n",
            "{'_id': 120, 'average': 35.95719685124687}\n",
            "{'_id': 138, 'average': 38.51625111286631}\n",
            "{'_id': 36, 'average': 73.00118412956367}\n",
            "{'_id': 189, 'average': 60.598742047363714}\n",
            "{'_id': 89, 'average': 35.644980559211376}\n",
            "{'_id': 146, 'average': 67.1385343748273}\n",
            "{'_id': 58, 'average': 40.223077196934895}\n",
            "{'_id': 72, 'average': 68.97405365200775}\n",
            "{'_id': 180, 'average': 53.40920694843542}\n",
            "{'_id': 70, 'average': 58.691636598132156}\n",
            "{'_id': 69, 'average': 67.4949572709026}\n",
            "{'_id': 114, 'average': 43.6573981108144}\n",
            "{'_id': 66, 'average': 31.608270277065987}\n",
            "{'_id': 71, 'average': 59.63772401741367}\n",
            "{'_id': 27, 'average': 27.552016669682065}\n",
            "{'_id': 113, 'average': 52.70992929563744}\n",
            "{'_id': 63, 'average': 24.247819691555488}\n",
            "{'_id': 54, 'average': 80.6788138481906}\n",
            "{'_id': 149, 'average': 47.16998485788662}\n",
            "{'_id': 62, 'average': 44.09576148698297}\n",
            "{'_id': 47, 'average': 49.24521660372076}\n",
            "{'_id': 88, 'average': 61.29567092479393}\n",
            "{'_id': 181, 'average': 33.57264241522756}\n",
            "{'_id': 68, 'average': 60.780502624181715}\n",
            "{'_id': 53, 'average': 40.38394499777923}\n",
            "{'_id': 139, 'average': 53.36213744974413}\n",
            "{'_id': 51, 'average': 66.98297178068269}\n",
            "{'_id': 13, 'average': 91.98315917172745}\n",
            "{'_id': 4, 'average': 67.79878751009093}\n",
            "{'_id': 86, 'average': 45.02620787680845}\n",
            "{'_id': 92, 'average': 38.58071060321578}\n",
            "{'_id': 38, 'average': 60.74596040230953}\n",
            "{'_id': 49, 'average': 61.072659451536104}\n",
            "{'_id': 18, 'average': 76.15468092976988}\n",
            "{'_id': 42, 'average': 56.48079215232912}\n",
            "{'_id': 95, 'average': 40.90207744079716}\n",
            "{'_id': 115, 'average': 35.035263647983896}\n",
            "{'_id': 30, 'average': 46.49409892713652}\n",
            "{'_id': 59, 'average': 43.85261533658862}\n",
            "{'_id': 79, 'average': 68.30940059533603}\n",
            "{'_id': 34, 'average': 54.61516309349131}\n",
            "{'_id': 14, 'average': 39.49623450792358}\n",
            "{'_id': 64, 'average': 89.54879045499759}\n",
            "{'_id': 9, 'average': 73.36109372875522}\n",
            "{'_id': 162, 'average': 41.29127885917401}\n",
            "{'_id': 2, 'average': 46.53868982375636}\n",
            "{'_id': 67, 'average': 74.14512702864923}\n",
            "{'_id': 132, 'average': 48.562424057799916}\n",
            "{'_id': 11, 'average': 82.83638462303753}\n",
            "{'_id': 31, 'average': 50.29878371680301}\n",
            "{'_id': 91, 'average': 68.98131588995625}\n",
            "{'_id': 35, 'average': 45.91364856034257}\n",
            "{'_id': 150, 'average': 42.17416055581702}\n",
            "{'_id': 108, 'average': 70.64791535352732}\n",
            "{'_id': 155, 'average': 55.855360698128656}\n",
            "{'_id': 90, 'average': 61.8459914429823}\n",
            "{'_id': 37, 'average': 64.64315816999603}\n",
            "{'_id': 74, 'average': 72.21089012723574}\n",
            "{'_id': 166, 'average': 81.19388235379569}\n",
            "{'_id': 5, 'average': 44.67289918492647}\n",
            "{'_id': 73, 'average': 44.06438867976778}\n",
            "{'_id': 87, 'average': 30.097630688937944}\n",
            "{'_id': 82, 'average': 60.33335391321111}\n",
            "{'_id': 122, 'average': 57.22821643707815}\n",
            "{'_id': 26, 'average': 46.65456820906835}\n",
            "{'_id': 124, 'average': 39.4113738593621}\n",
            "{'_id': 61, 'average': 65.78016649555671}\n",
            "{'_id': 19, 'average': 46.17779245857398}\n",
            "{'_id': 6, 'average': 49.07345251588723}\n",
            "{'_id': 77, 'average': 58.48253367143945}\n",
            "{'_id': 7, 'average': 76.46531115915774}\n",
            "{'_id': 16, 'average': 40.045584291265214}\n",
            "{'_id': 3, 'average': 46.23570750744486}\n",
            "{'_id': 28, 'average': 31.223372368132242}\n",
            "{'_id': 85, 'average': 59.60669933454934}\n",
            "{'_id': 76, 'average': 49.15673531330001}\n",
            "{'_id': 1, 'average': 61.53989734033458}\n",
            "{'_id': 178, 'average': 59.255144590396334}\n",
            "{'_id': 179, 'average': 67.05438236689719}\n",
            "{'_id': 55, 'average': 81.50079987984107}\n",
            "{'_id': 50, 'average': 56.2401754734718}\n",
            "{'_id': 15, 'average': 39.16669547058058}\n",
            "{'_id': 45, 'average': 34.25018152055785}\n",
            "{'_id': 125, 'average': 45.678096343520195}\n",
            "{'_id': 81, 'average': 57.313988852846144}\n",
            "{'_id': 65, 'average': 59.25334032788009}\n",
            "{'_id': 8, 'average': 37.57225777251449}\n",
            "{'_id': 39, 'average': 52.062561369546906}\n",
            "{'_id': 187, 'average': 33.46422949646806}\n",
            "{'_id': 22, 'average': 60.66854511856982}\n",
            "{'_id': 60, 'average': 60.78807821673169}\n",
            "{'_id': 23, 'average': 64.50764388481645}\n",
            "{'_id': 143, 'average': 50.76282735220718}\n",
            "{'_id': 24, 'average': 49.70269204382694}\n",
            "{'_id': 25, 'average': 49.51656407726875}\n",
            "{'_id': 56, 'average': 39.668964281414674}\n",
            "{'_id': 17, 'average': 72.7479933931404}\n",
            "{'_id': 83, 'average': 43.706449914834}\n",
            "{'_id': 75, 'average': 67.27528000602466}\n",
            "{'_id': 117, 'average': 51.34918616727207}\n",
            "{'_id': 40, 'average': 60.068799123129644}\n",
            "{'_id': 44, 'average': 38.05275503218692}\n",
            "{'_id': 21, 'average': 60.25276244865418}\n",
            "{'_id': 52, 'average': 88.99859407182412}\n",
            "{'_id': 33, 'average': 52.895790850428234}\n",
            "{'_id': 29, 'average': 50.67037107432704}\n",
            "{'_id': 173, 'average': 51.641778636040215}\n",
            "{'_id': 32, 'average': 87.75543424080395}\n",
            "{'_id': 183, 'average': 67.08140829859569}\n",
            "{'_id': 0, 'average': 16.373315943906046}\n",
            "{'_id': 84, 'average': 72.09939686919826}\n",
            "{'_id': 130, 'average': 66.52157301742125}\n",
            "{'_id': 157, 'average': 53.36718755987107}\n",
            "{'_id': 43, 'average': 41.57626139338066}\n",
            "{'_id': 96, 'average': 34.731257136783384}\n",
            "{'_id': 98, 'average': 81.60921059372951}\n",
            "{'_id': 140, 'average': 34.28715130105373}\n",
            "{'_id': 100, 'average': 43.75917273351454}\n",
            "{'_id': 99, 'average': 58.18205255869943}\n",
            "{'_id': 57, 'average': 54.398060017419176}\n",
            "{'_id': 176, 'average': 44.60986799213862}\n",
            "{'_id': 46, 'average': 43.76423617989062}\n",
            "{'_id': 101, 'average': 51.769444095567145}\n",
            "{'_id': 102, 'average': 58.53083940166959}\n",
            "{'_id': 103, 'average': 59.38112338727814}\n",
            "{'_id': 12, 'average': 73.4394793311116}\n",
            "{'_id': 104, 'average': 82.50438642973762}\n",
            "{'_id': 188, 'average': 58.76930603039721}\n",
            "{'_id': 105, 'average': 78.84910718913447}\n",
            "{'_id': 110, 'average': 57.81318434635596}\n",
            "{'_id': 107, 'average': 43.09956692577156}\n",
            "{'_id': 172, 'average': 74.7735734626966}\n",
            "{'_id': 192, 'average': 60.91267155039063}\n",
            "{'_id': 97, 'average': 77.05960374662888}\n",
            "{'_id': 109, 'average': 52.252036879853115}\n",
            "{'_id': 197, 'average': 49.61137841063252}\n",
            "{'_id': 111, 'average': 69.34499427130963}\n",
            "{'_id': 116, 'average': 73.78228266385393}\n",
            "{'_id': 194, 'average': 44.4242860435833}\n",
            "{'_id': 165, 'average': 42.693370282252125}\n",
            "{'_id': 118, 'average': 68.55293147390846}\n",
            "{'_id': 198, 'average': 32.42762352410862}\n",
            "{'_id': 135, 'average': 37.41104533450646}\n",
            "{'_id': 119, 'average': 70.09717176617319}\n",
            "{'_id': 121, 'average': 36.89518879739929}\n",
            "{'_id': 123, 'average': 23.757153424276073}\n",
            "{'_id': 48, 'average': 68.98831506715446}\n",
            "{'_id': 106, 'average': 19.486195872267093}\n",
            "{'_id': 126, 'average': 67.54287378181098}\n",
            "{'_id': 127, 'average': 87.79965530755887}\n",
            "{'_id': 185, 'average': 54.68596570806733}\n",
            "{'_id': 128, 'average': 27.426551617297662}\n",
            "{'_id': 129, 'average': 65.15593018673829}\n",
            "{'_id': 131, 'average': 49.755584436574814}\n",
            "{'_id': 167, 'average': 62.658274123455385}\n",
            "{'_id': 80, 'average': 68.49072057021586}\n",
            "{'_id': 133, 'average': 41.315481848868295}\n",
            "{'_id': 134, 'average': 55.366409708283605}\n",
            "{'_id': 141, 'average': 66.60622105054595}\n",
            "{'_id': 136, 'average': 55.60612033876507}\n",
            "{'_id': 148, 'average': 58.20620710811796}\n",
            "{'_id': 137, 'average': 53.17737752650996}\n",
            "{'_id': 142, 'average': 51.03277558075748}\n",
            "{'_id': 144, 'average': 61.03197639563026}\n",
            "{'_id': 93, 'average': 38.183631628668074}\n",
            "{'_id': 10, 'average': 66.62811909617069}\n",
            "{'_id': 145, 'average': 29.1876616800554}\n",
            "{'_id': 147, 'average': 47.00930460550405}\n",
            "{'_id': 151, 'average': 62.11028883931764}\n",
            "{'_id': 152, 'average': 46.53451747334566}\n",
            "{'_id': 20, 'average': 65.1357575739447}\n",
            "{'_id': 153, 'average': 60.99074865062216}\n",
            "{'_id': 154, 'average': 54.887077598631606}\n",
            "{'_id': 156, 'average': 48.26258322081454}\n",
            "{'_id': 112, 'average': 67.93039681756144}\n",
            "{'_id': 158, 'average': 55.30871966038658}\n",
            "{'_id': 159, 'average': 83.80153277618476}\n",
            "{'_id': 160, 'average': 62.90411679922721}\n",
            "{'_id': 161, 'average': 56.45374494901665}\n",
            "{'_id': 163, 'average': 25.075980589670635}\n",
            "{'_id': 190, 'average': 75.71814398628493}\n",
            "{'_id': 164, 'average': 55.2109471283531}\n",
            "{'_id': 168, 'average': 22.226827239879185}\n",
            "{'_id': 169, 'average': 68.23914423017285}\n",
            "{'_id': 41, 'average': 63.7791385080723}\n",
            "{'_id': 170, 'average': 59.30307869292532}\n",
            "{'_id': 174, 'average': 64.47863279245041}\n",
            "{'_id': 171, 'average': 60.48951232030631}\n",
            "{'_id': 193, 'average': 53.23022774560331}\n",
            "{'_id': 175, 'average': 35.45281528556819}\n",
            "{'_id': 177, 'average': 72.13579625560745}\n",
            "{'_id': 182, 'average': 82.35190304107266}\n",
            "{'_id': 184, 'average': 73.40466001562821}\n",
            "{'_id': 196, 'average': 54.82203341741056}\n",
            "{'_id': 186, 'average': 32.8192268519554}\n",
            "{'_id': 191, 'average': 84.27772532462807}\n",
            "{'_id': 195, 'average': 51.65779097298278}\n"
          ]
        }
      ]
    },
    {
      "cell_type": "code",
      "source": [
        "#inserting average scores into new colllection\n",
        "mydb.averages.insert_many(avg_list)"
      ],
      "metadata": {
        "colab": {
          "base_uri": "https://localhost:8080/"
        },
        "id": "D85Uj7zbr3lf",
        "outputId": "e33f39a1-eb41-4cad-ea00-8d8a69d01191"
      },
      "execution_count": 25,
      "outputs": [
        {
          "output_type": "execute_result",
          "data": {
            "text/plain": [
              "<pymongo.results.InsertManyResult at 0x7f876db316d0>"
            ]
          },
          "metadata": {},
          "execution_count": 25
        }
      ]
    },
    {
      "cell_type": "code",
      "source": [
        "mydb.list_collection_names()"
      ],
      "metadata": {
        "colab": {
          "base_uri": "https://localhost:8080/"
        },
        "id": "ijyfIgqkr3Yp",
        "outputId": "48d4fcc4-1d90-43cb-f4ff-04d7b3309f94"
      },
      "execution_count": 26,
      "outputs": [
        {
          "output_type": "execute_result",
          "data": {
            "text/plain": [
              "['mycol', 'averages', 'total_scores']"
            ]
          },
          "metadata": {},
          "execution_count": 26
        }
      ]
    },
    {
      "cell_type": "markdown",
      "source": [
        "#5) Create a new collection which consists of students who scored below average and above 40% in all the categories."
      ],
      "metadata": {
        "id": "JQrZH6P6bOKB"
      }
    },
    {
      "cell_type": "code",
      "source": [
        "query5 = mydb.mycol.aggregate([\n",
        "    {'$unwind': '$scores'},\n",
        "    {'$match':{'$or':[{'scores.type': 'exam'},{'scores.type':'quiz'},{'scores.type':'homework'}]}},\n",
        "    {'$group': {\n",
        "        '_id': '$_id',\n",
        "        'avg_score': {'$avg':'$scores.score'},\n",
        "        'pass_mark' :{'$sum':{'$cond':[{'$gte' : ['$scores.score', 40]}, 1, 0]}},\n",
        "        'below_avg': {'$sum': { \"$cond\": [{ \"$lt\": [\"$scores.score\", 55.17]}, 1, 0 ]}}}\n",
        "        }\n",
        "       ])\n",
        "\n",
        "students_with_below_average_and_above_40_per = []\n",
        "for i in query5:\n",
        "  if i['pass_mark'] == 2 and i['below_avg'] == 2:\n",
        "    students_with_below_average_and_above_40_per.append(i)"
      ],
      "metadata": {
        "id": "gSbGxK6obbLv"
      },
      "execution_count": 73,
      "outputs": []
    },
    {
      "cell_type": "markdown",
      "source": [
        "since there are no students who scored below average and above 40% in all the categories.\n",
        "\n",
        "we just consider the students who scored above 40% and below average in two categories"
      ],
      "metadata": {
        "id": "cZ9KvizfoyN0"
      }
    },
    {
      "cell_type": "code",
      "source": [
        "students_with_below_average_and_above_40_per"
      ],
      "metadata": {
        "colab": {
          "base_uri": "https://localhost:8080/"
        },
        "id": "NAQ6vPTflwPT",
        "outputId": "6515260e-d820-4b6d-bdc0-cffb403adb95"
      },
      "execution_count": 75,
      "outputs": [
        {
          "output_type": "execute_result",
          "data": {
            "text/plain": [
              "[{'_id': 89, 'avg_score': 35.644980559211376, 'pass_mark': 2, 'below_avg': 2},\n",
              " {'_id': 70, 'avg_score': 58.691636598132156, 'pass_mark': 2, 'below_avg': 2},\n",
              " {'_id': 149, 'avg_score': 47.16998485788662, 'pass_mark': 2, 'below_avg': 2},\n",
              " {'_id': 86, 'avg_score': 45.02620787680845, 'pass_mark': 2, 'below_avg': 2},\n",
              " {'_id': 42, 'avg_score': 56.48079215232912, 'pass_mark': 2, 'below_avg': 2},\n",
              " {'_id': 132, 'avg_score': 48.562424057799916, 'pass_mark': 2, 'below_avg': 2},\n",
              " {'_id': 155, 'avg_score': 55.855360698128656, 'pass_mark': 2, 'below_avg': 2},\n",
              " {'_id': 5, 'avg_score': 44.67289918492647, 'pass_mark': 2, 'below_avg': 2},\n",
              " {'_id': 26, 'avg_score': 46.65456820906835, 'pass_mark': 2, 'below_avg': 2},\n",
              " {'_id': 19, 'avg_score': 46.17779245857398, 'pass_mark': 2, 'below_avg': 2},\n",
              " {'_id': 3, 'avg_score': 46.23570750744486, 'pass_mark': 2, 'below_avg': 2},\n",
              " {'_id': 15, 'avg_score': 39.16669547058058, 'pass_mark': 2, 'below_avg': 2},\n",
              " {'_id': 125, 'avg_score': 45.678096343520195, 'pass_mark': 2, 'below_avg': 2},\n",
              " {'_id': 143, 'avg_score': 50.76282735220718, 'pass_mark': 2, 'below_avg': 2},\n",
              " {'_id': 56, 'avg_score': 39.668964281414674, 'pass_mark': 2, 'below_avg': 2},\n",
              " {'_id': 117, 'avg_score': 51.34918616727207, 'pass_mark': 2, 'below_avg': 2},\n",
              " {'_id': 21, 'avg_score': 60.25276244865418, 'pass_mark': 2, 'below_avg': 2},\n",
              " {'_id': 29, 'avg_score': 50.67037107432704, 'pass_mark': 2, 'below_avg': 2},\n",
              " {'_id': 157, 'avg_score': 53.36718755987107, 'pass_mark': 2, 'below_avg': 2},\n",
              " {'_id': 57, 'avg_score': 54.398060017419176, 'pass_mark': 2, 'below_avg': 2},\n",
              " {'_id': 46, 'avg_score': 43.76423617989062, 'pass_mark': 2, 'below_avg': 2},\n",
              " {'_id': 101, 'avg_score': 51.769444095567145, 'pass_mark': 2, 'below_avg': 2},\n",
              " {'_id': 192, 'avg_score': 60.91267155039063, 'pass_mark': 2, 'below_avg': 2},\n",
              " {'_id': 165, 'avg_score': 42.693370282252125, 'pass_mark': 2, 'below_avg': 2},\n",
              " {'_id': 121, 'avg_score': 36.89518879739929, 'pass_mark': 2, 'below_avg': 2},\n",
              " {'_id': 134, 'avg_score': 55.366409708283605, 'pass_mark': 2, 'below_avg': 2},\n",
              " {'_id': 142, 'avg_score': 51.03277558075748, 'pass_mark': 2, 'below_avg': 2},\n",
              " {'_id': 147, 'avg_score': 47.00930460550405, 'pass_mark': 2, 'below_avg': 2},\n",
              " {'_id': 152, 'avg_score': 46.53451747334566, 'pass_mark': 2, 'below_avg': 2},\n",
              " {'_id': 153, 'avg_score': 60.99074865062216, 'pass_mark': 2, 'below_avg': 2},\n",
              " {'_id': 156, 'avg_score': 48.26258322081454, 'pass_mark': 2, 'below_avg': 2},\n",
              " {'_id': 161, 'avg_score': 56.45374494901665, 'pass_mark': 2, 'below_avg': 2},\n",
              " {'_id': 164, 'avg_score': 55.2109471283531, 'pass_mark': 2, 'below_avg': 2},\n",
              " {'_id': 196, 'avg_score': 54.82203341741056, 'pass_mark': 2, 'below_avg': 2},\n",
              " {'_id': 195, 'avg_score': 51.65779097298278, 'pass_mark': 2, 'below_avg': 2}]"
            ]
          },
          "metadata": {},
          "execution_count": 75
        }
      ]
    },
    {
      "cell_type": "code",
      "source": [
        "mydb.new_collection1.insert_many(students_with_below_average_and_above_40_per)"
      ],
      "metadata": {
        "colab": {
          "base_uri": "https://localhost:8080/"
        },
        "id": "QsMQwThfmkwy",
        "outputId": "94a346d5-a35a-4860-f409-26bd245fa13a"
      },
      "execution_count": 77,
      "outputs": [
        {
          "output_type": "execute_result",
          "data": {
            "text/plain": [
              "<pymongo.results.InsertManyResult at 0x7f8763bcaa90>"
            ]
          },
          "metadata": {},
          "execution_count": 77
        }
      ]
    },
    {
      "cell_type": "code",
      "source": [
        "mydb.list_collection_names()"
      ],
      "metadata": {
        "colab": {
          "base_uri": "https://localhost:8080/"
        },
        "id": "imcPkV9jptnk",
        "outputId": "b861b673-c94e-4e5d-f852-22dd686e03c6"
      },
      "execution_count": 78,
      "outputs": [
        {
          "output_type": "execute_result",
          "data": {
            "text/plain": [
              "['mycol', 'averages', 'new_collection1', 'total_scores']"
            ]
          },
          "metadata": {},
          "execution_count": 78
        }
      ]
    },
    {
      "cell_type": "markdown",
      "source": [
        "# 6) Create a new collection which consists of students who scored below the fail mark in all the categories."
      ],
      "metadata": {
        "id": "kwg0nTyabR9I"
      }
    },
    {
      "cell_type": "code",
      "source": [
        "query6 = mydb.mycol.aggregate([\n",
        "    {'$unwind': '$scores'},\n",
        "    {'$match':{'$or':[{'scores.type': 'exam'},{'scores.type':'quiz'},{'scores.type':'homework'}]}},\n",
        "    {'$group': {\n",
        "        '_id': '$_id',\n",
        "        'passed_categories' :{'$sum':{'$cond':[{'$gte' : ['$scores.score', 40]}, 1, 0]}}}}\n",
        "       ])\n",
        "\n",
        "fail_list = []\n",
        "for i in query6:\n",
        "  if i['passed_categories'] == 0:\n",
        "    fail_list.append(i)"
      ],
      "metadata": {
        "id": "fuS9uL_cbb6a"
      },
      "execution_count": 89,
      "outputs": []
    },
    {
      "cell_type": "code",
      "source": [
        "fail_list"
      ],
      "metadata": {
        "colab": {
          "base_uri": "https://localhost:8080/"
        },
        "id": "W7ZW_ujLq5br",
        "outputId": "0514024e-b7f6-49fe-c53e-934e98155fe9"
      },
      "execution_count": 92,
      "outputs": [
        {
          "output_type": "execute_result",
          "data": {
            "text/plain": [
              "[{'_id': 0, 'passed_categories': 0}]"
            ]
          },
          "metadata": {},
          "execution_count": 92
        }
      ]
    },
    {
      "cell_type": "code",
      "source": [
        "mydb.new_collecction2.insert_many(fail_list)"
      ],
      "metadata": {
        "colab": {
          "base_uri": "https://localhost:8080/"
        },
        "id": "ZNaDTk7HrHl3",
        "outputId": "b90db399-6f9d-43f6-ec1d-f7738d7b1a09"
      },
      "execution_count": 90,
      "outputs": [
        {
          "output_type": "execute_result",
          "data": {
            "text/plain": [
              "<pymongo.results.InsertManyResult at 0x7f8763af20d0>"
            ]
          },
          "metadata": {},
          "execution_count": 90
        }
      ]
    },
    {
      "cell_type": "code",
      "source": [
        "mydb.list_collection_names()"
      ],
      "metadata": {
        "colab": {
          "base_uri": "https://localhost:8080/"
        },
        "id": "44Jo8pbbq5Yj",
        "outputId": "25f81121-5c8c-4854-a4b6-569bbb0468d5"
      },
      "execution_count": 91,
      "outputs": [
        {
          "output_type": "execute_result",
          "data": {
            "text/plain": [
              "['mycol', 'averages', 'new_collecction2', 'new_collection1', 'total_scores']"
            ]
          },
          "metadata": {},
          "execution_count": 91
        }
      ]
    },
    {
      "cell_type": "markdown",
      "source": [
        "#7) Create a new collection which consists of students who scored above pass mark in all the categories."
      ],
      "metadata": {
        "id": "7cEQ915EbVmg"
      }
    },
    {
      "cell_type": "code",
      "source": [
        "query7 = mydb.mycol.aggregate([\n",
        "    {'$unwind': '$scores'},\n",
        "    {'$match':{'$or':[{'scores.type': 'exam'},{'scores.type':'quiz'},{'scores.type':'homework'}]}},\n",
        "    {'$group': {\n",
        "        '_id': '$_id',\n",
        "        'above_pass_mark' :{'$sum':{'$cond':[{'$gt' : ['$scores.score', 40]}, 1, 0]}}}}\n",
        "       ])\n",
        "\n",
        "above_pass_list =[]\n",
        "for i in query7:\n",
        "  if i['above_pass_mark'] == 3:\n",
        "    above_pass_list.append(i)\n"
      ],
      "metadata": {
        "id": "xuTKrU6DbcgS"
      },
      "execution_count": 96,
      "outputs": []
    },
    {
      "cell_type": "code",
      "source": [
        "above_pass_list"
      ],
      "metadata": {
        "colab": {
          "base_uri": "https://localhost:8080/"
        },
        "id": "uaQWzrH4ssso",
        "outputId": "5df5d3c5-a847-4766-ac10-a9e35495b456"
      },
      "execution_count": 100,
      "outputs": [
        {
          "output_type": "execute_result",
          "data": {
            "text/plain": [
              "[{'_id': 36, 'above_pass_mark': 3},\n",
              " {'_id': 54, 'above_pass_mark': 3},\n",
              " {'_id': 68, 'above_pass_mark': 3},\n",
              " {'_id': 13, 'above_pass_mark': 3},\n",
              " {'_id': 18, 'above_pass_mark': 3},\n",
              " {'_id': 79, 'above_pass_mark': 3},\n",
              " {'_id': 64, 'above_pass_mark': 3},\n",
              " {'_id': 67, 'above_pass_mark': 3},\n",
              " {'_id': 11, 'above_pass_mark': 3},\n",
              " {'_id': 108, 'above_pass_mark': 3},\n",
              " {'_id': 90, 'above_pass_mark': 3},\n",
              " {'_id': 166, 'above_pass_mark': 3},\n",
              " {'_id': 61, 'above_pass_mark': 3},\n",
              " {'_id': 7, 'above_pass_mark': 3},\n",
              " {'_id': 85, 'above_pass_mark': 3},\n",
              " {'_id': 1, 'above_pass_mark': 3},\n",
              " {'_id': 55, 'above_pass_mark': 3},\n",
              " {'_id': 65, 'above_pass_mark': 3},\n",
              " {'_id': 23, 'above_pass_mark': 3},\n",
              " {'_id': 75, 'above_pass_mark': 3},\n",
              " {'_id': 52, 'above_pass_mark': 3},\n",
              " {'_id': 32, 'above_pass_mark': 3},\n",
              " {'_id': 84, 'above_pass_mark': 3},\n",
              " {'_id': 130, 'above_pass_mark': 3},\n",
              " {'_id': 98, 'above_pass_mark': 3},\n",
              " {'_id': 99, 'above_pass_mark': 3},\n",
              " {'_id': 102, 'above_pass_mark': 3},\n",
              " {'_id': 12, 'above_pass_mark': 3},\n",
              " {'_id': 104, 'above_pass_mark': 3},\n",
              " {'_id': 188, 'above_pass_mark': 3},\n",
              " {'_id': 105, 'above_pass_mark': 3},\n",
              " {'_id': 110, 'above_pass_mark': 3},\n",
              " {'_id': 97, 'above_pass_mark': 3},\n",
              " {'_id': 109, 'above_pass_mark': 3},\n",
              " {'_id': 111, 'above_pass_mark': 3},\n",
              " {'_id': 116, 'above_pass_mark': 3},\n",
              " {'_id': 118, 'above_pass_mark': 3},\n",
              " {'_id': 119, 'above_pass_mark': 3},\n",
              " {'_id': 126, 'above_pass_mark': 3},\n",
              " {'_id': 127, 'above_pass_mark': 3},\n",
              " {'_id': 185, 'above_pass_mark': 3},\n",
              " {'_id': 129, 'above_pass_mark': 3},\n",
              " {'_id': 167, 'above_pass_mark': 3},\n",
              " {'_id': 141, 'above_pass_mark': 3},\n",
              " {'_id': 10, 'above_pass_mark': 3},\n",
              " {'_id': 20, 'above_pass_mark': 3},\n",
              " {'_id': 159, 'above_pass_mark': 3},\n",
              " {'_id': 190, 'above_pass_mark': 3},\n",
              " {'_id': 169, 'above_pass_mark': 3},\n",
              " {'_id': 174, 'above_pass_mark': 3},\n",
              " {'_id': 193, 'above_pass_mark': 3},\n",
              " {'_id': 182, 'above_pass_mark': 3},\n",
              " {'_id': 184, 'above_pass_mark': 3},\n",
              " {'_id': 191, 'above_pass_mark': 3}]"
            ]
          },
          "metadata": {},
          "execution_count": 100
        }
      ]
    },
    {
      "cell_type": "code",
      "source": [
        "mydb.new_collection3.insert_many(above_pass_list)"
      ],
      "metadata": {
        "id": "-PU6W5MfbwBr",
        "colab": {
          "base_uri": "https://localhost:8080/"
        },
        "outputId": "45c94897-307e-4add-a2c8-5c8eafb1d575"
      },
      "execution_count": 102,
      "outputs": [
        {
          "output_type": "execute_result",
          "data": {
            "text/plain": [
              "<pymongo.results.InsertManyResult at 0x7f8763b758e0>"
            ]
          },
          "metadata": {},
          "execution_count": 102
        }
      ]
    },
    {
      "cell_type": "code",
      "source": [
        "mydb.list_collection_names()"
      ],
      "metadata": {
        "colab": {
          "base_uri": "https://localhost:8080/"
        },
        "id": "t52YD_-TtJVp",
        "outputId": "31d17c20-436b-4a51-96a1-94df8de6ad42"
      },
      "execution_count": 103,
      "outputs": [
        {
          "output_type": "execute_result",
          "data": {
            "text/plain": [
              "['new_collection3',\n",
              " 'mycol',\n",
              " 'averages',\n",
              " 'new_collecction2',\n",
              " 'new_collection1',\n",
              " 'total_scores']"
            ]
          },
          "metadata": {},
          "execution_count": 103
        }
      ]
    }
  ]
}